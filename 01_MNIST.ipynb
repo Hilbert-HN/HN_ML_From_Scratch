{
  "nbformat": 4,
  "nbformat_minor": 0,
  "metadata": {
    "colab": {
      "name": "01-MNIST.ipynb",
      "provenance": [],
      "collapsed_sections": [
        "CvlTZD3VEud9",
        "zgXPgkiwJFD_",
        "WRW0P_FVS7mx",
        "HkR8-hPtT2en",
        "h0EmjUNMWDrv",
        "HYfnWSD6YFNl",
        "vae3n3NVdb3p"
      ],
      "authorship_tag": "ABX9TyO/fgjSOBPKJsk0Aav0b7sw",
      "include_colab_link": true
    },
    "kernelspec": {
      "name": "python3",
      "display_name": "Python 3"
    },
    "language_info": {
      "name": "python"
    }
  },
  "cells": [
    {
      "cell_type": "markdown",
      "metadata": {
        "id": "view-in-github",
        "colab_type": "text"
      },
      "source": [
        "<a href=\"https://colab.research.google.com/github/Hilbert-HN/HN_ML_From_Scratch/blob/main/01_MNIST.ipynb\" target=\"_parent\"><img src=\"https://colab.research.google.com/assets/colab-badge.svg\" alt=\"Open In Colab\"/></a>"
      ]
    },
    {
      "cell_type": "markdown",
      "source": [
        "**01-MNIST** \\\n",
        "MNIST is black and white handwritten digits dataset available in Keras \\\n",
        "[Tutorial] - https://www.tensorflow.org/tutorials/quickstart/beginner \\\n",
        "[Book: Deep Learning with Python, François Chollet] - Chapter 2\n",
        "\n"
      ],
      "metadata": {
        "id": "E716E3NwET0i"
      }
    },
    {
      "cell_type": "markdown",
      "source": [
        "## **0-Import TensorFlow**"
      ],
      "metadata": {
        "id": "2DC7P9JhEglQ"
      }
    },
    {
      "cell_type": "code",
      "execution_count": null,
      "metadata": {
        "id": "6jb3uX3lEIqS"
      },
      "outputs": [],
      "source": [
        "import tensorflow as tf"
      ]
    },
    {
      "cell_type": "code",
      "source": [
        "print(tf.__version__)"
      ],
      "metadata": {
        "colab": {
          "base_uri": "https://localhost:8080/"
        },
        "id": "CCzBUgBVEo9y",
        "outputId": "19ec866d-35fb-4d94-9b9b-80384c607dcd"
      },
      "execution_count": null,
      "outputs": [
        {
          "output_type": "stream",
          "name": "stdout",
          "text": [
            "2.8.0\n"
          ]
        }
      ]
    },
    {
      "cell_type": "markdown",
      "source": [
        "## **1-Load Dataset**"
      ],
      "metadata": {
        "id": "CvlTZD3VEud9"
      }
    },
    {
      "cell_type": "code",
      "source": [
        "mnist = tf.keras.datasets.mnist"
      ],
      "metadata": {
        "id": "DaHZuVQfEtzm"
      },
      "execution_count": null,
      "outputs": []
    },
    {
      "cell_type": "code",
      "source": [
        "(x_train, y_train), (x_test, y_test) = mnist.load_data()"
      ],
      "metadata": {
        "id": "mOmddg24Er37"
      },
      "execution_count": null,
      "outputs": []
    },
    {
      "cell_type": "code",
      "source": [
        "print(x_train.shape)\n",
        "print(x_test.shape)\n",
        "print(y_train.shape)\n",
        "print(y_test.shape)"
      ],
      "metadata": {
        "colab": {
          "base_uri": "https://localhost:8080/"
        },
        "id": "gkxdOychFucE",
        "outputId": "e5d8e862-f553-4b16-ac17-b84a0f1bf11d"
      },
      "execution_count": null,
      "outputs": [
        {
          "output_type": "stream",
          "name": "stdout",
          "text": [
            "(60000, 28, 28)\n",
            "(10000, 28, 28)\n",
            "(60000,)\n",
            "(10000,)\n"
          ]
        }
      ]
    },
    {
      "cell_type": "code",
      "source": [
        "print(y_train)"
      ],
      "metadata": {
        "colab": {
          "base_uri": "https://localhost:8080/"
        },
        "id": "HTuvaFQ_HOOW",
        "outputId": "1ee7ab28-bf1c-45f7-a751-91f1b77ec08c"
      },
      "execution_count": null,
      "outputs": [
        {
          "output_type": "stream",
          "name": "stdout",
          "text": [
            "[5 0 4 ... 5 6 8]\n"
          ]
        }
      ]
    },
    {
      "cell_type": "code",
      "source": [
        "#Each image in MNIST dataset is an 28x28 matix with 0-255 values\n",
        "print(x_train[0])"
      ],
      "metadata": {
        "colab": {
          "base_uri": "https://localhost:8080/"
        },
        "id": "sa4sgMhYMiAt",
        "outputId": "ba8443f8-6f32-4aff-8f2d-e4ac3e596b7d"
      },
      "execution_count": null,
      "outputs": [
        {
          "output_type": "stream",
          "name": "stdout",
          "text": [
            "[[  0   0   0   0   0   0   0   0   0   0   0   0   0   0   0   0   0   0\n",
            "    0   0   0   0   0   0   0   0   0   0]\n",
            " [  0   0   0   0   0   0   0   0   0   0   0   0   0   0   0   0   0   0\n",
            "    0   0   0   0   0   0   0   0   0   0]\n",
            " [  0   0   0   0   0   0   0   0   0   0   0   0   0   0   0   0   0   0\n",
            "    0   0   0   0   0   0   0   0   0   0]\n",
            " [  0   0   0   0   0   0   0   0   0   0   0   0   0   0   0   0   0   0\n",
            "    0   0   0   0   0   0   0   0   0   0]\n",
            " [  0   0   0   0   0   0   0   0   0   0   0   0   0   0   0   0   0   0\n",
            "    0   0   0   0   0   0   0   0   0   0]\n",
            " [  0   0   0   0   0   0   0   0   0   0   0   0   3  18  18  18 126 136\n",
            "  175  26 166 255 247 127   0   0   0   0]\n",
            " [  0   0   0   0   0   0   0   0  30  36  94 154 170 253 253 253 253 253\n",
            "  225 172 253 242 195  64   0   0   0   0]\n",
            " [  0   0   0   0   0   0   0  49 238 253 253 253 253 253 253 253 253 251\n",
            "   93  82  82  56  39   0   0   0   0   0]\n",
            " [  0   0   0   0   0   0   0  18 219 253 253 253 253 253 198 182 247 241\n",
            "    0   0   0   0   0   0   0   0   0   0]\n",
            " [  0   0   0   0   0   0   0   0  80 156 107 253 253 205  11   0  43 154\n",
            "    0   0   0   0   0   0   0   0   0   0]\n",
            " [  0   0   0   0   0   0   0   0   0  14   1 154 253  90   0   0   0   0\n",
            "    0   0   0   0   0   0   0   0   0   0]\n",
            " [  0   0   0   0   0   0   0   0   0   0   0 139 253 190   2   0   0   0\n",
            "    0   0   0   0   0   0   0   0   0   0]\n",
            " [  0   0   0   0   0   0   0   0   0   0   0  11 190 253  70   0   0   0\n",
            "    0   0   0   0   0   0   0   0   0   0]\n",
            " [  0   0   0   0   0   0   0   0   0   0   0   0  35 241 225 160 108   1\n",
            "    0   0   0   0   0   0   0   0   0   0]\n",
            " [  0   0   0   0   0   0   0   0   0   0   0   0   0  81 240 253 253 119\n",
            "   25   0   0   0   0   0   0   0   0   0]\n",
            " [  0   0   0   0   0   0   0   0   0   0   0   0   0   0  45 186 253 253\n",
            "  150  27   0   0   0   0   0   0   0   0]\n",
            " [  0   0   0   0   0   0   0   0   0   0   0   0   0   0   0  16  93 252\n",
            "  253 187   0   0   0   0   0   0   0   0]\n",
            " [  0   0   0   0   0   0   0   0   0   0   0   0   0   0   0   0   0 249\n",
            "  253 249  64   0   0   0   0   0   0   0]\n",
            " [  0   0   0   0   0   0   0   0   0   0   0   0   0   0  46 130 183 253\n",
            "  253 207   2   0   0   0   0   0   0   0]\n",
            " [  0   0   0   0   0   0   0   0   0   0   0   0  39 148 229 253 253 253\n",
            "  250 182   0   0   0   0   0   0   0   0]\n",
            " [  0   0   0   0   0   0   0   0   0   0  24 114 221 253 253 253 253 201\n",
            "   78   0   0   0   0   0   0   0   0   0]\n",
            " [  0   0   0   0   0   0   0   0  23  66 213 253 253 253 253 198  81   2\n",
            "    0   0   0   0   0   0   0   0   0   0]\n",
            " [  0   0   0   0   0   0  18 171 219 253 253 253 253 195  80   9   0   0\n",
            "    0   0   0   0   0   0   0   0   0   0]\n",
            " [  0   0   0   0  55 172 226 253 253 253 253 244 133  11   0   0   0   0\n",
            "    0   0   0   0   0   0   0   0   0   0]\n",
            " [  0   0   0   0 136 253 253 253 212 135 132  16   0   0   0   0   0   0\n",
            "    0   0   0   0   0   0   0   0   0   0]\n",
            " [  0   0   0   0   0   0   0   0   0   0   0   0   0   0   0   0   0   0\n",
            "    0   0   0   0   0   0   0   0   0   0]\n",
            " [  0   0   0   0   0   0   0   0   0   0   0   0   0   0   0   0   0   0\n",
            "    0   0   0   0   0   0   0   0   0   0]\n",
            " [  0   0   0   0   0   0   0   0   0   0   0   0   0   0   0   0   0   0\n",
            "    0   0   0   0   0   0   0   0   0   0]]\n"
          ]
        }
      ]
    },
    {
      "cell_type": "markdown",
      "source": [
        "## **2-Preprocessing the dataset**"
      ],
      "metadata": {
        "id": "syhkAI0LMUuB"
      }
    },
    {
      "cell_type": "markdown",
      "source": [
        "Transfom the 0-255 values in the matrix to between 0-1"
      ],
      "metadata": {
        "id": "_sSCkPaKObeu"
      }
    },
    {
      "cell_type": "code",
      "source": [
        "from matplotlib import pyplot as plt\n",
        "plt.imshow(x_train[0], cmap='gray_r')\n",
        "plt.show()"
      ],
      "metadata": {
        "colab": {
          "base_uri": "https://localhost:8080/",
          "height": 265
        },
        "id": "-tLFZ3bRMyte",
        "outputId": "ed56b968-cda2-4acd-ddd1-f7107477d27a"
      },
      "execution_count": null,
      "outputs": [
        {
          "output_type": "display_data",
          "data": {
            "text/plain": [
              "<Figure size 432x288 with 1 Axes>"
            ],
            "image/png": "[encoded data removed]"
          },
          "metadata": {
            "needs_background": "light"
          }
        }
      ]
    },
    {
      "cell_type": "code",
      "source": [
        "# Tensorflow keep the image as matrix and flatten in the network\n",
        "x_train_T = x_train / 255.0\n",
        "x_test_T = x_test / 255.0\n",
        "#x_train_T[0]"
      ],
      "metadata": {
        "id": "HuRkUJdnMZyV"
      },
      "execution_count": null,
      "outputs": []
    },
    {
      "cell_type": "code",
      "source": [
        "# Deep Learning with Python flatten the image first\n",
        "x_train_D = x_train.reshape((60000, 28*28))\n",
        "x_train_D = x_train_D.astype('float32') / 255\n",
        "x_test_D = x_test.reshape((10000, 28*28))\n",
        "x_test_D = x_test_D.astype('float32') / 255\n",
        "#x_train_D[0]"
      ],
      "metadata": {
        "id": "DbtB0A-4NjgJ"
      },
      "execution_count": null,
      "outputs": []
    },
    {
      "cell_type": "markdown",
      "source": [
        "## **3-Build the network architecture**"
      ],
      "metadata": {
        "id": "zgXPgkiwJFD_"
      }
    },
    {
      "cell_type": "markdown",
      "source": [
        "**Tensorflow**"
      ],
      "metadata": {
        "id": "GwZe16fzXiPl"
      }
    },
    {
      "cell_type": "code",
      "source": [
        "#Tensorflow example didnt import below and use tf.keras. when using keras API\n",
        "from tensorflow import keras\n",
        "from tensorflow.keras import layers"
      ],
      "metadata": {
        "id": "_hDvYBdnH7Dw"
      },
      "execution_count": null,
      "outputs": []
    },
    {
      "cell_type": "code",
      "source": [
        "#tensorflow - network architecture\n",
        "model_T = keras.Sequential([\n",
        "                          layers.Flatten(input_shape=(28,28)),\n",
        "                          layers.Dense(128, activation = 'relu'),\n",
        "                          layers.Dropout(0.2),\n",
        "                          layers.Dense(10)\n",
        "])"
      ],
      "metadata": {
        "id": "CNc6-yxjJW6r"
      },
      "execution_count": null,
      "outputs": []
    },
    {
      "cell_type": "code",
      "source": [
        "#try to do prediction withou training\n",
        "predictions = model_T (x_train_T[:1]).numpy()\n",
        "predictions"
      ],
      "metadata": {
        "colab": {
          "base_uri": "https://localhost:8080/"
        },
        "id": "YSYDJVHHRwZM",
        "outputId": "26fdf24f-bc3a-4665-bb80-92da6a672b2b"
      },
      "execution_count": null,
      "outputs": [
        {
          "output_type": "execute_result",
          "data": {
            "text/plain": [
              "array([[-0.3374871 , -0.02862667,  0.75917304,  0.39684522, -0.59658414,\n",
              "         0.37158725, -0.07235338, -0.38866174,  0.84360445,  0.062584  ]],\n",
              "      dtype=float32)"
            ]
          },
          "metadata": {},
          "execution_count": 59
        }
      ]
    },
    {
      "cell_type": "code",
      "source": [
        "#below layer can be combine with above model as an activation function\n",
        "#layers.Dense(10,activation = 'softmax')\n",
        "#it convert the logit output to probabiliites for each class, which added up to be 1\n",
        "#Tensflow do not recommend to combine\n",
        "probability_model_T = keras.Sequential([\n",
        "                                      model_T,\n",
        "                                      layers.Softmax()\n",
        "])"
      ],
      "metadata": {
        "id": "wHIxoYHBLkVj"
      },
      "execution_count": null,
      "outputs": []
    },
    {
      "cell_type": "markdown",
      "source": [
        "*Note: It is possible to bake the tf.nn.softmax function into the activation function for the last layer of the network. While this can make the model output more directly interpretable, this approach is discouraged as it's impossible to provide an exact and numerically stable loss calculation for all models when using a softmax output.*"
      ],
      "metadata": {
        "id": "iLVa5sFeQWiU"
      }
    },
    {
      "cell_type": "markdown",
      "source": [
        "**Deep Learning with python**"
      ],
      "metadata": {
        "id": "XhLd4vCJXmD9"
      }
    },
    {
      "cell_type": "code",
      "source": [
        "#Tensorflow example didnt import below and use tf.keras. when using keras API\n",
        "from tensorflow import keras\n",
        "from tensorflow.keras import layers"
      ],
      "metadata": {
        "id": "r7pAR0OALGt8"
      },
      "execution_count": null,
      "outputs": []
    },
    {
      "cell_type": "code",
      "source": [
        "#Deep Learning with Python - network architecture\n",
        "model_D = keras.Sequential([\n",
        "        layers.Dense(512, activation = 'relu'),\n",
        "        layers.Dense(10, activation='softmax')\n",
        "])"
      ],
      "metadata": {
        "id": "TDwtueAzJ0Rv"
      },
      "execution_count": null,
      "outputs": []
    },
    {
      "cell_type": "markdown",
      "source": [
        "## **4-Complite Model with optimizer, loss, metrics**"
      ],
      "metadata": {
        "id": "WRW0P_FVS7mx"
      }
    },
    {
      "cell_type": "markdown",
      "source": [
        "**TensorFlow**"
      ],
      "metadata": {
        "id": "srXoRfEPXLa-"
      }
    },
    {
      "cell_type": "markdown",
      "source": [
        "Define loss function by calling keras.losses"
      ],
      "metadata": {
        "id": "JDNpIvSMSHkx"
      }
    },
    {
      "cell_type": "code",
      "source": [
        "loss_fn = keras.losses.SparseCategoricalCrossentropy(from_logits=True)"
      ],
      "metadata": {
        "id": "28ZiwNjFKt5L"
      },
      "execution_count": null,
      "outputs": []
    },
    {
      "cell_type": "code",
      "source": [
        "#lets get the loss between the correct label vs random prediction \n",
        "loss_fn(y_train[:1], predictions).numpy()"
      ],
      "metadata": {
        "colab": {
          "base_uri": "https://localhost:8080/"
        },
        "id": "u-NrKngYRpQk",
        "outputId": "32503e92-37ed-485c-ae15-eb097fc73518"
      },
      "execution_count": null,
      "outputs": [
        {
          "output_type": "execute_result",
          "data": {
            "text/plain": [
              "2.1385956"
            ]
          },
          "metadata": {},
          "execution_count": 64
        }
      ]
    },
    {
      "cell_type": "code",
      "source": [
        "model_T.compile(optimizer = 'adam',\n",
        "              loss=loss_fn,\n",
        "              metrics=['accuracy'])"
      ],
      "metadata": {
        "id": "fxJyGnRKSwXa"
      },
      "execution_count": null,
      "outputs": []
    },
    {
      "cell_type": "markdown",
      "source": [
        "**Deep Learning with Python**"
      ],
      "metadata": {
        "id": "45l4Gze2XApl"
      }
    },
    {
      "cell_type": "markdown",
      "source": [
        "loss function is defined inside model.complie"
      ],
      "metadata": {
        "id": "SmXCkTFgXG9Y"
      }
    },
    {
      "cell_type": "code",
      "source": [
        "model_D.compile(optimizer = 'rmsprop',\n",
        "                 loss = 'sparse_categorical_crossentropy',\n",
        "                 metrics = ['accuracy'])"
      ],
      "metadata": {
        "id": "pAR4hoEJTUX1"
      },
      "execution_count": null,
      "outputs": []
    },
    {
      "cell_type": "markdown",
      "source": [
        "## **5-Train the model**"
      ],
      "metadata": {
        "id": "HkR8-hPtT2en"
      }
    },
    {
      "cell_type": "code",
      "source": [
        "# # Clean the model before new training,\n",
        "# # run step 3, 4 again\n",
        "# model_T = []\n",
        "# model_D = []"
      ],
      "metadata": {
        "id": "ATRUnjEnevKR"
      },
      "execution_count": null,
      "outputs": []
    },
    {
      "cell_type": "code",
      "source": [
        "# To get the history for viewing curve\n",
        "# add validation_data\n",
        "history_T = model_T.fit(x_train_T, y_train, \n",
        "            epochs=5, \n",
        "            validation_data = (x_test_T, y_test))"
      ],
      "metadata": {
        "colab": {
          "base_uri": "https://localhost:8080/"
        },
        "id": "f1YtV-zvTmqk",
        "outputId": "ffa3d516-fc4c-4010-bad2-4957136c3a5a"
      },
      "execution_count": null,
      "outputs": [
        {
          "output_type": "stream",
          "name": "stdout",
          "text": [
            "Epoch 1/5\n",
            "1875/1875 [==============================] - 5s 3ms/step - loss: 0.2957 - accuracy: 0.9144 - val_loss: 0.1351 - val_accuracy: 0.9602\n",
            "Epoch 2/5\n",
            "1875/1875 [==============================] - 5s 3ms/step - loss: 0.1405 - accuracy: 0.9577 - val_loss: 0.0992 - val_accuracy: 0.9699\n",
            "Epoch 3/5\n",
            "1875/1875 [==============================] - 5s 3ms/step - loss: 0.1070 - accuracy: 0.9672 - val_loss: 0.0850 - val_accuracy: 0.9726\n",
            "Epoch 4/5\n",
            "1875/1875 [==============================] - 5s 2ms/step - loss: 0.0872 - accuracy: 0.9728 - val_loss: 0.0795 - val_accuracy: 0.9747\n",
            "Epoch 5/5\n",
            "1875/1875 [==============================] - 5s 3ms/step - loss: 0.0733 - accuracy: 0.9772 - val_loss: 0.0809 - val_accuracy: 0.9761\n"
          ]
        }
      ]
    },
    {
      "cell_type": "code",
      "source": [
        "# batch allow the gradient descent to adjust the weighting taking the average loss of the 128 num of training for gradient descent update\n",
        "history_D = model_D.fit(x_train_D, y_train,\n",
        "            epochs=5,\n",
        "            batch_size=128,\n",
        "            validation_data = (x_test_D, y_test))"
      ],
      "metadata": {
        "colab": {
          "base_uri": "https://localhost:8080/"
        },
        "id": "AXoJgeXgUHF7",
        "outputId": "205efa09-0fce-4ae8-dd5b-c293666fab73"
      },
      "execution_count": null,
      "outputs": [
        {
          "output_type": "stream",
          "name": "stdout",
          "text": [
            "Epoch 1/5\n",
            "469/469 [==============================] - 5s 11ms/step - loss: 0.2562 - accuracy: 0.9264 - val_loss: 0.1180 - val_accuracy: 0.9660\n",
            "Epoch 2/5\n",
            "469/469 [==============================] - 5s 10ms/step - loss: 0.1024 - accuracy: 0.9700 - val_loss: 0.0847 - val_accuracy: 0.9746\n",
            "Epoch 3/5\n",
            "469/469 [==============================] - 5s 10ms/step - loss: 0.0670 - accuracy: 0.9795 - val_loss: 0.0794 - val_accuracy: 0.9765\n",
            "Epoch 4/5\n",
            "469/469 [==============================] - 5s 10ms/step - loss: 0.0483 - accuracy: 0.9854 - val_loss: 0.0732 - val_accuracy: 0.9781\n",
            "Epoch 5/5\n",
            "469/469 [==============================] - 5s 10ms/step - loss: 0.0368 - accuracy: 0.9890 - val_loss: 0.0637 - val_accuracy: 0.9815\n"
          ]
        }
      ]
    },
    {
      "cell_type": "markdown",
      "source": [
        "## **6-Evaluate the model with Test set**"
      ],
      "metadata": {
        "id": "h0EmjUNMWDrv"
      }
    },
    {
      "cell_type": "code",
      "source": [
        "model_T.evaluate(x_test_T,  y_test, verbose=2)"
      ],
      "metadata": {
        "colab": {
          "base_uri": "https://localhost:8080/"
        },
        "id": "Uc9BiUn7UY7L",
        "outputId": "c97924e3-f192-41d9-872a-7ba5f93d8790"
      },
      "execution_count": null,
      "outputs": [
        {
          "output_type": "stream",
          "name": "stdout",
          "text": [
            "313/313 - 0s - loss: 0.0809 - accuracy: 0.9761 - 380ms/epoch - 1ms/step\n"
          ]
        },
        {
          "output_type": "execute_result",
          "data": {
            "text/plain": [
              "[0.08089658617973328, 0.9761000275611877]"
            ]
          },
          "metadata": {},
          "execution_count": 70
        }
      ]
    },
    {
      "cell_type": "code",
      "source": [
        "model_D.evaluate(x_test_D,  y_test, verbose=2)"
      ],
      "metadata": {
        "colab": {
          "base_uri": "https://localhost:8080/"
        },
        "id": "v8oaeq1zWZsK",
        "outputId": "268872bf-5d19-4508-ed96-54e4eec12f6d"
      },
      "execution_count": null,
      "outputs": [
        {
          "output_type": "stream",
          "name": "stdout",
          "text": [
            "313/313 - 1s - loss: 0.0637 - accuracy: 0.9815 - 628ms/epoch - 2ms/step\n"
          ]
        },
        {
          "output_type": "execute_result",
          "data": {
            "text/plain": [
              "[0.06367316097021103, 0.9815000295639038]"
            ]
          },
          "metadata": {},
          "execution_count": 71
        }
      ]
    },
    {
      "cell_type": "markdown",
      "source": [
        "## **7-Prediction**"
      ],
      "metadata": {
        "id": "HYfnWSD6YFNl"
      }
    },
    {
      "cell_type": "code",
      "source": [
        "import random\n",
        "test_index = random.randint(0,10000)\n",
        "test_index"
      ],
      "metadata": {
        "colab": {
          "base_uri": "https://localhost:8080/"
        },
        "id": "DWz7pAePb2bI",
        "outputId": "0ce27e69-d4b6-433c-cca0-791adc3c9808"
      },
      "execution_count": null,
      "outputs": [
        {
          "output_type": "execute_result",
          "data": {
            "text/plain": [
              "3888"
            ]
          },
          "metadata": {},
          "execution_count": 112
        }
      ]
    },
    {
      "cell_type": "code",
      "source": [
        "y_test[test_index]"
      ],
      "metadata": {
        "colab": {
          "base_uri": "https://localhost:8080/"
        },
        "id": "MuFlNcFEafQt",
        "outputId": "9a76dd4d-d016-420a-f4d9-c2913d2914af"
      },
      "execution_count": null,
      "outputs": [
        {
          "output_type": "execute_result",
          "data": {
            "text/plain": [
              "9"
            ]
          },
          "metadata": {},
          "execution_count": 113
        }
      ]
    },
    {
      "cell_type": "code",
      "source": [
        "plt.imshow(x_test[test_index],cmap=\"gray\")\n",
        "plt.show()"
      ],
      "metadata": {
        "colab": {
          "base_uri": "https://localhost:8080/",
          "height": 265
        },
        "id": "cgbfierDrqVz",
        "outputId": "8fe4dee2-bfc9-4a6e-bc1a-f2df142bc7c7"
      },
      "execution_count": null,
      "outputs": [
        {
          "output_type": "display_data",
          "data": {
            "text/plain": [
              "<Figure size 432x288 with 1 Axes>"
            ],
            "image/png": "[encoded data removed]"
          },
          "metadata": {
            "needs_background": "light"
          }
        }
      ]
    },
    {
      "cell_type": "code",
      "source": [
        "prediction_T = probability_model_T(x_test_T[[test_index]])\n",
        "prediction_T = prediction_T.numpy()\n",
        "prediction_T"
      ],
      "metadata": {
        "colab": {
          "base_uri": "https://localhost:8080/"
        },
        "id": "h5ERgcBnWbcD",
        "outputId": "c55b1602-d727-4aad-b55b-b5b99457d58f"
      },
      "execution_count": null,
      "outputs": [
        {
          "output_type": "execute_result",
          "data": {
            "text/plain": [
              "array([[2.61996342e-06, 2.38070030e-09, 1.13391425e-05, 1.93959522e-06,\n",
              "        5.63305290e-03, 9.49076139e-07, 6.56577527e-07, 1.64499669e-03,\n",
              "        1.32365494e-05, 9.92691219e-01]], dtype=float32)"
            ]
          },
          "metadata": {},
          "execution_count": 115
        }
      ]
    },
    {
      "cell_type": "code",
      "source": [
        "prediction_D = model_D.predict(x_test_D[[test_index]])\n",
        "prediction_D"
      ],
      "metadata": {
        "colab": {
          "base_uri": "https://localhost:8080/"
        },
        "id": "4fJUi8i-Y2R3",
        "outputId": "7f9d46cf-4d44-4063-af2d-8fde836e7b5a"
      },
      "execution_count": null,
      "outputs": [
        {
          "output_type": "execute_result",
          "data": {
            "text/plain": [
              "array([[4.9864998e-06, 9.4411534e-13, 2.8255158e-07, 1.9222268e-06,\n",
              "        5.5272115e-04, 2.2730112e-05, 7.8198340e-08, 2.1444257e-04,\n",
              "        3.5666960e-06, 9.9919933e-01]], dtype=float32)"
            ]
          },
          "metadata": {},
          "execution_count": 116
        }
      ]
    },
    {
      "cell_type": "code",
      "source": [
        "prediction_T[0].argmax()"
      ],
      "metadata": {
        "colab": {
          "base_uri": "https://localhost:8080/"
        },
        "id": "_g9p4Qu6bpNr",
        "outputId": "4a6da7ac-a428-4329-a907-a91c7f2b7342"
      },
      "execution_count": null,
      "outputs": [
        {
          "output_type": "execute_result",
          "data": {
            "text/plain": [
              "9"
            ]
          },
          "metadata": {},
          "execution_count": 117
        }
      ]
    },
    {
      "cell_type": "code",
      "source": [
        "prediction_D[0].argmax()"
      ],
      "metadata": {
        "colab": {
          "base_uri": "https://localhost:8080/"
        },
        "id": "XhZWlNFFY8U7",
        "outputId": "06710f66-8bd2-4330-8d87-45b9f7dfcebe"
      },
      "execution_count": null,
      "outputs": [
        {
          "output_type": "execute_result",
          "data": {
            "text/plain": [
              "9"
            ]
          },
          "metadata": {},
          "execution_count": 118
        }
      ]
    },
    {
      "cell_type": "markdown",
      "source": [
        "## **8-Visualize the loss and accuracy**"
      ],
      "metadata": {
        "id": "vae3n3NVdb3p"
      }
    },
    {
      "cell_type": "code",
      "source": [
        "import matplotlib.pyplot as plt"
      ],
      "metadata": {
        "id": "Cwcv-sEcddn7"
      },
      "execution_count": null,
      "outputs": []
    },
    {
      "cell_type": "code",
      "source": [
        "history_dict_T = history_T.history\n",
        "history_dict_D = history_D.history\n",
        "history_dict_T.keys()"
      ],
      "metadata": {
        "colab": {
          "base_uri": "https://localhost:8080/"
        },
        "id": "vCt3Vg7ad1Vc",
        "outputId": "f2c7fea3-aac4-4f70-c542-3586e80b1213"
      },
      "execution_count": null,
      "outputs": [
        {
          "output_type": "execute_result",
          "data": {
            "text/plain": [
              "dict_keys(['loss', 'accuracy', 'val_loss', 'val_accuracy'])"
            ]
          },
          "metadata": {},
          "execution_count": 79
        }
      ]
    },
    {
      "cell_type": "code",
      "source": [
        "loss_values_T = history_dict_T ['loss']\n",
        "val_loss_values_T = history_dict_T ['val_loss']\n",
        "epochs = range(1, len(loss_values_T) + 1)\n",
        "\n",
        "plt.plot(epochs, loss_values_T, 'bo', label = 'Training loss')\n",
        "plt.plot(epochs, val_loss_values_T, 'b', label = 'Validation loss')\n",
        "plt.title(\"Training and validation loss - Tensorflow Tutorial\")\n",
        "plt.xlabel(\"Epochs\")\n",
        "plt.ylabel(\"Loss\")\n",
        "plt.legend()\n",
        "plt.show()"
      ],
      "metadata": {
        "id": "a5HnlW2ed13B",
        "colab": {
          "base_uri": "https://localhost:8080/",
          "height": 239
        },
        "outputId": "1d01f649-909e-4ab6-bf1a-e7e22265ebd3"
      },
      "execution_count": null,
      "outputs": [
        {
          "output_type": "display_data",
          "data": {
            "text/plain": [
              "<Figure size 432x288 with 1 Axes>"
            ],
            "image/png": "[encoded data removed]"
          },
          "metadata": {
            "needs_background": "light"
          }
        }
      ]
    },
    {
      "cell_type": "code",
      "source": [
        "plt.clf() # clear\n",
        "\n",
        "loss_values_D = history_dict_D ['loss']\n",
        "val_loss_values_D = history_dict_D ['val_loss']\n",
        "epochs = range(1, len(loss_values_D) + 1)\n",
        "\n",
        "plt.plot(epochs, loss_values_D, 'ro', label = 'Training loss')\n",
        "plt.plot(epochs, val_loss_values_D, 'r', label = 'Validation loss')\n",
        "plt.title(\"Training and validation loss - Deep Learning With Python Tutorial\")\n",
        "plt.xlabel(\"Epochs\")\n",
        "plt.ylabel(\"Loss\")\n",
        "plt.legend()\n",
        "plt.show()"
      ],
      "metadata": {
        "colab": {
          "base_uri": "https://localhost:8080/",
          "height": 225
        },
        "id": "QWtiBqOyjOR1",
        "outputId": "0c449657-5f3d-4718-98a4-bb8ccdb098b7"
      },
      "execution_count": null,
      "outputs": [
        {
          "output_type": "display_data",
          "data": {
            "text/plain": [
              "<Figure size 432x288 with 1 Axes>"
            ],
            "image/png": "[encoded data removed]"
          },
          "metadata": {
            "needs_background": "light"
          }
        }
      ]
    },
    {
      "cell_type": "code",
      "source": [
        "plt.clf()\n",
        "\n",
        "acc_T = history_dict_T ['accuracy']\n",
        "val_acc_T = history_dict_T ['val_accuracy']\n",
        "\n",
        "plt.plot(epochs, acc_T , 'bo', label = 'Training acc')\n",
        "plt.plot(epochs, val_acc_T , 'b', label = 'Validation acc')\n",
        "plt.title(\"Training and validation accuracy - Tensorflow Tutorial\")\n",
        "plt.xlabel(\"Epochs\")\n",
        "plt.ylabel(\"Loss\")\n",
        "plt.legend()\n",
        "plt.show()\n"
      ],
      "metadata": {
        "colab": {
          "base_uri": "https://localhost:8080/",
          "height": 239
        },
        "id": "8xF8zWpbiPz4",
        "outputId": "65777558-37c7-4841-80b7-d51e9040a0e2"
      },
      "execution_count": null,
      "outputs": [
        {
          "output_type": "display_data",
          "data": {
            "text/plain": [
              "<Figure size 432x288 with 1 Axes>"
            ],
            "image/png": "[encoded data removed]"
          },
          "metadata": {
            "needs_background": "light"
          }
        }
      ]
    },
    {
      "cell_type": "code",
      "source": [
        "plt.clf()\n",
        "\n",
        "acc_D = history_dict_D ['accuracy']\n",
        "val_acc_D = history_dict_D ['val_accuracy']\n",
        "\n",
        "plt.plot(epochs, acc_T , 'ro', label = 'Training acc')\n",
        "plt.plot(epochs, val_acc_T , 'r', label = 'Validation acc')\n",
        "plt.title(\"Training and validation accuracy - Deep Learning With Python Tutorial\")\n",
        "plt.xlabel(\"Epochs\")\n",
        "plt.ylabel(\"Loss\")\n",
        "plt.legend()\n",
        "plt.show()"
      ],
      "metadata": {
        "colab": {
          "base_uri": "https://localhost:8080/",
          "height": 217
        },
        "id": "62A-0bEImaIY",
        "outputId": "1e31e727-e99b-451f-c191-d535460eeb88"
      },
      "execution_count": null,
      "outputs": [
        {
          "output_type": "display_data",
          "data": {
            "text/plain": [
              "<Figure size 432x288 with 1 Axes>"
            ],
            "image/png": "[encoded data removed]"
          },
          "metadata": {
            "needs_background": "light"
          }
        }
      ]
    }
  ]
}