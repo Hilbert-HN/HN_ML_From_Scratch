{
  "nbformat": 4,
  "nbformat_minor": 0,
  "metadata": {
    "colab": {
      "name": "03_IMDB_Sentiment_Analysis.ipynb",
      "provenance": [],
      "collapsed_sections": [
        "nPjwyuMy3pxQ",
        "-SdU4JiN4_Ah",
        "5ZAaeXwDN3t1",
        "iuO-8UzSmHlZ"
      ],
      "authorship_tag": "ABX9TyMCY4AU+d1GVSJBYn7lboxq",
      "include_colab_link": true
    },
    "kernelspec": {
      "name": "python3",
      "display_name": "Python 3"
    },
    "language_info": {
      "name": "python"
    }
  },
  "cells": [
    {
      "cell_type": "markdown",
      "metadata": {
        "id": "view-in-github",
        "colab_type": "text"
      },
      "source": [
        "<a href=\"https://colab.research.google.com/github/Hilbert-HN/HN_ML_From_Scratch/blob/main/01_TensorFlow_Exercises/03_IMDB_Sentiment.ipynb\" target=\"_parent\"><img src=\"https://colab.research.google.com/assets/colab-badge.svg\" alt=\"Open In Colab\"/></a>"
      ]
    },
    {
      "cell_type": "markdown",
      "source": [
        "**03-IMDB Sentiment**\n",
        "\n",
        "https://www.tensorflow.org/tutorials/keras/text_classification"
      ],
      "metadata": {
        "id": "_zqmnMkFaUWk"
      }
    },
    {
      "cell_type": "markdown",
      "source": [
        "# **Step 0 - Import Dependencies**"
      ],
      "metadata": {
        "id": "nPjwyuMy3pxQ"
      }
    },
    {
      "cell_type": "code",
      "execution_count": null,
      "metadata": {
        "id": "9WO-8k3i3JrC"
      },
      "outputs": [],
      "source": [
        "import matplotlib.pyplot as plt\n",
        "\n",
        "#handling directory\n",
        "import os\n",
        "import shutil\n",
        "\n",
        "#handling pattern and text\n",
        "import re\n",
        "# https://docs.python.org/3/library/re.html\n",
        "import string\n",
        "# https://docs.python.org/3/library/string.html\n",
        "\n",
        "import tensorflow as tf\n",
        "from tensorflow.keras import layers\n",
        "from tensorflow.keras import losses"
      ]
    },
    {
      "cell_type": "code",
      "source": [
        "print (tf.__version__)"
      ],
      "metadata": {
        "colab": {
          "base_uri": "https://localhost:8080/"
        },
        "id": "Tob1C4Oo3--2",
        "outputId": "81725719-c148-4b5d-9960-8fbd2c67ec6e"
      },
      "execution_count": null,
      "outputs": [
        {
          "output_type": "stream",
          "name": "stdout",
          "text": [
            "2.8.2\n"
          ]
        }
      ]
    },
    {
      "cell_type": "markdown",
      "source": [
        "# **Step 1 - Load Dataset**"
      ],
      "metadata": {
        "id": "-SdU4JiN4_Ah"
      }
    },
    {
      "cell_type": "code",
      "source": [
        "url = \"https://ai.stanford.edu/~amaas/data/sentiment/aclImdb_v1.tar.gz\"\n",
        "\n",
        "dataset = tf.keras.utils.get_file(\"aclImdb_v1\", url,\n",
        "                                    untar=True, cache_dir='.',\n",
        "                                    cache_subdir='')\n",
        "\n",
        "dataset_dir = os.path.join(os.path.dirname(dataset), 'aclImdb')"
      ],
      "metadata": {
        "id": "dQiD_iuU4Brs",
        "colab": {
          "base_uri": "https://localhost:8080/"
        },
        "outputId": "0e145149-8596-4afa-90b3-d08d193a6614"
      },
      "execution_count": null,
      "outputs": [
        {
          "output_type": "stream",
          "name": "stdout",
          "text": [
            "Downloading data from https://ai.stanford.edu/~amaas/data/sentiment/aclImdb_v1.tar.gz\n",
            "84131840/84125825 [==============================] - 6s 0us/step\n",
            "84140032/84125825 [==============================] - 6s 0us/step\n"
          ]
        }
      ]
    },
    {
      "cell_type": "code",
      "source": [
        "os.listdir(dataset_dir)"
      ],
      "metadata": {
        "colab": {
          "base_uri": "https://localhost:8080/"
        },
        "id": "DuAzHPbh5aYH",
        "outputId": "ca2c5493-850d-4dac-8fad-09665c6c488c"
      },
      "execution_count": null,
      "outputs": [
        {
          "output_type": "execute_result",
          "data": {
            "text/plain": [
              "['imdbEr.txt', 'test', 'train', 'README', 'imdb.vocab']"
            ]
          },
          "metadata": {},
          "execution_count": 3
        }
      ]
    },
    {
      "cell_type": "code",
      "source": [
        "train_dir = os.path.join(dataset_dir, 'train')\n",
        "os.listdir(train_dir)"
      ],
      "metadata": {
        "colab": {
          "base_uri": "https://localhost:8080/"
        },
        "id": "bawltZQ85nzo",
        "outputId": "533b0538-6fa8-4cfa-8fd7-d0d097709db2"
      },
      "execution_count": null,
      "outputs": [
        {
          "output_type": "execute_result",
          "data": {
            "text/plain": [
              "['pos',\n",
              " 'neg',\n",
              " 'unsup',\n",
              " 'labeledBow.feat',\n",
              " 'urls_unsup.txt',\n",
              " 'unsupBow.feat',\n",
              " 'urls_neg.txt',\n",
              " 'urls_pos.txt']"
            ]
          },
          "metadata": {},
          "execution_count": 4
        }
      ]
    },
    {
      "cell_type": "markdown",
      "source": [
        "# **Step 2 - Preprocessing the dataset**"
      ],
      "metadata": {
        "id": "dCNP1zeF8WzU"
      }
    },
    {
      "cell_type": "code",
      "source": [
        "sample_file = os.path.join(train_dir, 'pos/1181_9.txt')\n",
        "with open(sample_file) as f:\n",
        "  print(f.read())"
      ],
      "metadata": {
        "colab": {
          "base_uri": "https://localhost:8080/"
        },
        "id": "5b9iCXHi7FEp",
        "outputId": "9aaba050-d434-4c61-a72a-5c0e1374378c"
      },
      "execution_count": null,
      "outputs": [
        {
          "output_type": "stream",
          "name": "stdout",
          "text": [
            "Rachel Griffiths writes and directs this award winning short film. A heartwarming story about coping with grief and cherishing the memory of those we've loved and lost. Although, only 15 minutes long, Griffiths manages to capture so much emotion and truth onto film in the short space of time. Bud Tingwell gives a touching performance as Will, a widower struggling to cope with his wife's death. Will is confronted by the harsh reality of loneliness and helplessness as he proceeds to take care of Ruth's pet cow, Tulip. The film displays the grief and responsibility one feels for those they have loved and lost. Good cinematography, great direction, and superbly acted. It will bring tears to all those who have lost a loved one, and survived.\n"
          ]
        }
      ]
    },
    {
      "cell_type": "code",
      "source": [
        "# Remove unwanted files in directory\n",
        "remove_dir = os.path.join(train_dir, 'unsup')\n",
        "shutil.rmtree(remove_dir)"
      ],
      "metadata": {
        "id": "aTc1Gc2z8dYq"
      },
      "execution_count": null,
      "outputs": []
    },
    {
      "cell_type": "markdown",
      "source": [
        "## **Split Data into Train / Validate / Test**"
      ],
      "metadata": {
        "id": "rMmKlZ1kMwtu"
      }
    },
    {
      "cell_type": "code",
      "source": [
        "# using text_dataset_from_directory within keras-utilities to assest the text data stored in directory\n",
        "# https://www.tensorflow.org/api_docs/python/tf/keras/utils/text_dataset_from_directory\n",
        "\n",
        "# main_directory/\n",
        "# ...class_a/\n",
        "# ......a_text_1.txt\n",
        "# ......a_text_2.txt\n",
        "# ...class_b/\n",
        "# ......b_text_1.txt\n",
        "# ......b_text_2.txt\n",
        "\n",
        "\n",
        "# it will create data-label numpy pairs into batch\n",
        "# label of class_a and class_b be will be converted as label 0 and label 1"
      ],
      "metadata": {
        "id": "zTeMbOsnKOGC"
      },
      "execution_count": null,
      "outputs": []
    },
    {
      "cell_type": "code",
      "source": [
        "batch_size = 32\n",
        "seed = 42 \n",
        "\n",
        "print('Training Data:')\n",
        "raw_train_ds = tf.keras.utils.text_dataset_from_directory(\n",
        "    'aclImdb/train',\n",
        "    batch_size = batch_size,\n",
        "    validation_split = 0.2,\n",
        "    subset = 'training',\n",
        "    seed = seed\n",
        ")\n",
        "\n",
        "print('\\nValidation Data:')\n",
        "raw_val_ds = tf.keras.utils.text_dataset_from_directory(\n",
        "    'aclImdb/train',\n",
        "    batch_size = batch_size,\n",
        "    validation_split = 0.2,\n",
        "    subset = 'validation',\n",
        "    seed = seed\n",
        ")\n",
        "\n",
        "print('\\nTesting Data:')\n",
        "raw_test_ds = tf.keras.utils.text_dataset_from_directory(\n",
        "    'aclImdb/test',\n",
        "    batch_size = batch_size\n",
        ")\n"
      ],
      "metadata": {
        "colab": {
          "base_uri": "https://localhost:8080/"
        },
        "id": "fq4PKNRJ-0UV",
        "outputId": "98ee9935-50b0-4b6e-e2a5-0f9e4706ac00"
      },
      "execution_count": null,
      "outputs": [
        {
          "output_type": "stream",
          "name": "stdout",
          "text": [
            "Training Data:\n",
            "Found 25000 files belonging to 2 classes.\n",
            "Using 20000 files for training.\n",
            "\n",
            "Validation Data:\n",
            "Found 25000 files belonging to 2 classes.\n",
            "Using 5000 files for validation.\n",
            "\n",
            "Testing Data:\n",
            "Found 25000 files belonging to 2 classes.\n"
          ]
        }
      ]
    },
    {
      "cell_type": "code",
      "source": [
        "# Above tensorflow directory data can be asset by tf.data.Dataset\n",
        "# https://www.tensorflow.org/api_docs/python/tf/data/Dataset\n",
        "\n",
        "# print the first few elements in batch 1\n",
        "for text_batch, label_batch in raw_train_ds.take(1):\n",
        "  for i in range(3):\n",
        "    print('Review', text_batch.numpy()[i])\n",
        "    print('Label', label_batch.numpy()[i])"
      ],
      "metadata": {
        "colab": {
          "base_uri": "https://localhost:8080/"
        },
        "id": "8J_RobaLHYXL",
        "outputId": "08d6441e-9dbf-422d-f151-10fc69974f61"
      },
      "execution_count": null,
      "outputs": [
        {
          "output_type": "stream",
          "name": "stdout",
          "text": [
            "Review b'\"Pandemonium\" is a horror movie spoof that comes off more stupid than funny. Believe me when I tell you, I love comedies. Especially comedy spoofs. \"Airplane\", \"The Naked Gun\" trilogy, \"Blazing Saddles\", \"High Anxiety\", and \"Spaceballs\" are some of my favorite comedies that spoof a particular genre. \"Pandemonium\" is not up there with those films. Most of the scenes in this movie had me sitting there in stunned silence because the movie wasn\\'t all that funny. There are a few laughs in the film, but when you watch a comedy, you expect to laugh a lot more than a few times and that\\'s all this film has going for it. Geez, \"Scream\" had more laughs than this film and that was more of a horror film. How bizarre is that?<br /><br />*1/2 (out of four)'\n",
            "Label 0\n",
            "Review b\"David Mamet is a very interesting and a very un-equal director. His first movie 'House of Games' was the one I liked best, and it set a series of films with characters whose perspective of life changes as they get into complicated situations, and so does the perspective of the viewer.<br /><br />So is 'Homicide' which from the title tries to set the mind of the viewer to the usual crime drama. The principal characters are two cops, one Jewish and one Irish who deal with a racially charged area. The murder of an old Jewish shop owner who proves to be an ancient veteran of the Israeli Independence war triggers the Jewish identity in the mind and heart of the Jewish detective.<br /><br />This is were the flaws of the film are the more obvious. The process of awakening is theatrical and hard to believe, the group of Jewish militants is operatic, and the way the detective eventually walks to the final violent confrontation is pathetic. The end of the film itself is Mamet-like smart, but disappoints from a human emotional perspective.<br /><br />Joe Mantegna and William Macy give strong performances, but the flaws of the story are too evident to be easily compensated.\"\n",
            "Label 0\n",
            "Review b'Great documentary about the lives of NY firefighters during the worst terrorist attack of all time.. That reason alone is why this should be a must see collectors item.. What shocked me was not only the attacks, but the\"High Fat Diet\" and physical appearance of some of these firefighters. I think a lot of Doctors would agree with me that,in the physical shape they were in, some of these firefighters would NOT of made it to the 79th floor carrying over 60 lbs of gear. Having said that i now have a greater respect for firefighters and i realize becoming a firefighter is a life altering job. The French have a history of making great documentary\\'s and that is what this is, a Great Documentary.....'\n",
            "Label 1\n"
          ]
        }
      ]
    },
    {
      "cell_type": "code",
      "source": [
        "print(\"Label 0 corresponds to\", raw_train_ds.class_names[0])\n",
        "print(\"Label 1 corresponds to\", raw_train_ds.class_names[1])"
      ],
      "metadata": {
        "colab": {
          "base_uri": "https://localhost:8080/"
        },
        "id": "zXOk5emDIiyv",
        "outputId": "4148e263-70ef-481b-cb1b-ab924cbd23b1"
      },
      "execution_count": null,
      "outputs": [
        {
          "output_type": "stream",
          "name": "stdout",
          "text": [
            "Label 0 corresponds to neg\n",
            "Label 1 corresponds to pos\n"
          ]
        }
      ]
    },
    {
      "cell_type": "markdown",
      "source": [
        "## **Define custom standardization and Strip HTML**"
      ],
      "metadata": {
        "id": "5ZAaeXwDN3t1"
      }
    },
    {
      "cell_type": "code",
      "source": [
        "def custom_standardization(input_data):\n",
        "  lowercase = tf.strings.lower(input_data)\n",
        "  stripped_html = tf.strings.regex_replace(lowercase, '<br />', ' ')\n",
        "  return tf.strings.regex_replace(stripped_html,\n",
        "                                  '[%s]' % re.escape(string.punctuation),\n",
        "                                  '')"
      ],
      "metadata": {
        "id": "86tgLIzvOF7Y"
      },
      "execution_count": null,
      "outputs": []
    },
    {
      "cell_type": "code",
      "source": [
        "legal_chars = string.ascii_lowercase + string.digits + \"!#$%&'*+-.^_`|~:\"\n",
        "print(legal_chars)\n",
        "print('[%s]' % legal_chars)\n",
        "print('[%s]' % re.escape(legal_chars))\n",
        "\n",
        "print(string.punctuation)\n",
        "print('[%s]' % re.escape(string.punctuation))"
      ],
      "metadata": {
        "colab": {
          "base_uri": "https://localhost:8080/"
        },
        "id": "TDoalryCI-Tj",
        "outputId": "f25d9432-aa9b-4dac-b211-78c897353755"
      },
      "execution_count": null,
      "outputs": [
        {
          "output_type": "stream",
          "name": "stdout",
          "text": [
            "abcdefghijklmnopqrstuvwxyz0123456789!#$%&'*+-.^_`|~:\n",
            "[abcdefghijklmnopqrstuvwxyz0123456789!#$%&'*+-.^_`|~:]\n",
            "[abcdefghijklmnopqrstuvwxyz0123456789!\\#\\$%\\&'\\*\\+\\-\\.\\^_`\\|\\~:]\n",
            "!\"#$%&'()*+,-./:;<=>?@[\\]^_`{|}~\n",
            "[!\"\\#\\$%\\&'\\(\\)\\*\\+,\\-\\./:;<=>\\?@\\[\\\\\\]\\^_`\\{\\|\\}\\~]\n"
          ]
        }
      ]
    },
    {
      "cell_type": "markdown",
      "source": [
        "## **Define Layer for standardize the text and converting text to number token**"
      ],
      "metadata": {
        "id": "rtgyzKIVM2kF"
      }
    },
    {
      "cell_type": "code",
      "source": [
        "# Using TextVectorization Layer\n",
        "# https://www.tensorflow.org/api_docs/python/tf/keras/layers/TextVectorization\n",
        "max_features = 10000\n",
        "sequence_length = 250\n",
        "\n",
        "vectorize_layer = layers.TextVectorization(\n",
        "    standardize = custom_standardization,\n",
        "    max_tokens = max_features,\n",
        "    output_mode = 'int',\n",
        "    output_sequence_length = sequence_length\n",
        ")"
      ],
      "metadata": {
        "id": "F-CUjTvTRMhp"
      },
      "execution_count": null,
      "outputs": []
    },
    {
      "cell_type": "code",
      "source": [
        "# Make a text-only dataset (without labels), then call adapt\n",
        "# During adapt(), the layer will build a vocabulary of all string tokens seen in the dataset\n",
        "# sorted by occurance count, with ties broken by sort order of the tokens (high to low)\n",
        "\n",
        "\n",
        "# input x, y, return x only \n",
        "# train_text = map(lambda x, y: x, raw_train_ds)\n",
        "train_text = raw_train_ds.map(lambda x, y: x)\n",
        "vectorize_layer.adapt(train_text)\n"
      ],
      "metadata": {
        "id": "89l9rbwwVS83"
      },
      "execution_count": null,
      "outputs": []
    },
    {
      "cell_type": "code",
      "source": [
        "# insert a dimension of length 1, at position -1\n",
        "# [10,10,3] --> [10,10,3,1]\n",
        "def vectorize_text(text, label):\n",
        "  text = tf.expand_dims(text, -1)\n",
        "  return vectorize_layer(text), label"
      ],
      "metadata": {
        "id": "OkG2rxhrbArG"
      },
      "execution_count": null,
      "outputs": []
    },
    {
      "cell_type": "markdown",
      "source": [
        "## **View the tokenized result**"
      ],
      "metadata": {
        "id": "FSmp9l3KbQYr"
      }
    },
    {
      "cell_type": "code",
      "source": [
        "# retrieve a batch (of 32 reviews and labels) from the dataset\n",
        "text_batch, label_batch = next(iter(raw_train_ds))\n",
        "first_review, first_label = text_batch[0], label_batch[0]\n",
        "print(\"Review\", first_review)\n",
        "print(\"Label\", raw_train_ds.class_names[first_label])\n",
        "print(\"\\nVectorized review\", vectorize_text(first_review, first_label))\n",
        "print(\"\\nVectorized review\", vectorize_layer(first_review))"
      ],
      "metadata": {
        "colab": {
          "base_uri": "https://localhost:8080/"
        },
        "id": "tvrGKtceb17B",
        "outputId": "55f285e9-f8ce-4b90-9012-f9a4ed915023"
      },
      "execution_count": null,
      "outputs": [
        {
          "output_type": "stream",
          "name": "stdout",
          "text": [
            "Review tf.Tensor(b'\"A young woman suffers from the delusion that she is a werewolf, based upon a family legend of an ancestor accused of and killed for allegedly being one. Due to her past treatment by men, she travels the countryside seducing and killing the men she meets. Falling in love with a kind man, her life appears to take a turn for the better when she is raped and her lover is killed by a band of thugs. Traumatized again by these latest events, the woman returns to her violent ways and seeks revenge on the thugs,\" according to the DVD sleeve\\'s synopsis.<br /><br />Rino Di Silvestro\\'s \"La lupa mannara\" begins with full frontal, writhing, moaning dance by shapely blonde Annik Borel, who (as Daniella Neseri) mistakenly believes she is a werewolf. The hottest part is when the camera catches background fire between her legs. The opening \"flashback\" reveals her hairy ancestor was (probably) a lycanthropic creature. Ms. Borel is, unfortunately, not a werewolf; she is merely a very strong lunatic.<br /><br />As a film, \"Werewolf Woman\" (in English) would have been better if Borel\\'s character really was a female werewolf; with her sexual victimization a great bit of characterization. But, as far as 1970s skin and blood flicks go, this one is hard to beat. Bouncy Borel is either nude or sexily clad throughout the film, which features a fair amount of gratuitous gore. Dazzling Dagmar Lassander (as Elena) and hunky Howard Ross (as Luca) are good supporting players.', shape=(), dtype=string)\n",
            "Label neg\n",
            "\n",
            "Vectorized review (<tf.Tensor: shape=(1, 250), dtype=int64, numpy=\n",
            "array([[   4,  181,  246, 2320,   35,    2,    1,   12,   55,    7,    4,\n",
            "        1823,  443,  718,    4,  215, 1725,    5,   33,    1, 3420,    5,\n",
            "           3,  546,   15, 8957,  108,   28,  684,    6,   39,  491, 2217,\n",
            "          32,  348,   55, 4096,    2, 4169,    1,    3,  846,    2,  348,\n",
            "          55,  879, 1387,    8,  115,   16,    4,  236,  130,   39,  116,\n",
            "         723,    6,  190,    4,  459,   15,    2,  122,   51,   55,    7,\n",
            "        3377,    3,   39, 1522,    7,  546,   32,    4, 1090,    5, 3616,\n",
            "        8981,  169,   32,  129, 2379,  650,    2,  246, 1734,    6,   39,\n",
            "        1097,  760,    3, 4972, 1087,   20,    2, 3616, 1668,    6,    2,\n",
            "         287,    1, 3658,    1,    1,    1,  990,    1,    1,  762,   16,\n",
            "         374, 7652,    1,    1,  833,   32,    1, 1941,    1,    1,   36,\n",
            "          14,    1,    1,    1, 2101,   55,    7,    4, 1823,    2,    1,\n",
            "         170,    7,   51,    2,  379, 3898,  985,  973,  188,   39, 2988,\n",
            "           2,  634, 2721, 2684,   39, 8463,    1,   13,  235,    4,    1,\n",
            "        1612, 1474,    1,    7,  460,   21,    4, 1823,   55,    7, 1516,\n",
            "           4,   52,  556, 6830,   14,    4,   19, 1823,  246,    8,  648,\n",
            "          59,   25,   74,  122,   45,    1,  106,   62,   13,    4,  638,\n",
            "        1823,   16,   39,  845,    1,    4,   86,  221,    5, 3414,   18,\n",
            "          14,  231,   14, 2311, 2595,    3,  528, 1427,  137,   11,   28,\n",
            "           7,  264,    6, 1638,    1,    1,    7,  338, 2613,   41,    1,\n",
            "        8134,  458,    2,   19,   60,  915,    4, 1234, 1137,    5, 2135,\n",
            "         594, 5842,    1,    1,   14,    1,    3, 8456, 2274, 5645,   14,\n",
            "           1,   23,   49,  679, 1787,    0,    0,    0]])>, <tf.Tensor: shape=(), dtype=int32, numpy=0>)\n",
            "\n",
            "Vectorized review tf.Tensor(\n",
            "[   4  181  246 2320   35    2    1   12   55    7    4 1823  443  718\n",
            "    4  215 1725    5   33    1 3420    5    3  546   15 8957  108   28\n",
            "  684    6   39  491 2217   32  348   55 4096    2 4169    1    3  846\n",
            "    2  348   55  879 1387    8  115   16    4  236  130   39  116  723\n",
            "    6  190    4  459   15    2  122   51   55    7 3377    3   39 1522\n",
            "    7  546   32    4 1090    5 3616 8981  169   32  129 2379  650    2\n",
            "  246 1734    6   39 1097  760    3 4972 1087   20    2 3616 1668    6\n",
            "    2  287    1 3658    1    1    1  990    1    1  762   16  374 7652\n",
            "    1    1  833   32    1 1941    1    1   36   14    1    1    1 2101\n",
            "   55    7    4 1823    2    1  170    7   51    2  379 3898  985  973\n",
            "  188   39 2988    2  634 2721 2684   39 8463    1   13  235    4    1\n",
            " 1612 1474    1    7  460   21    4 1823   55    7 1516    4   52  556\n",
            " 6830   14    4   19 1823  246    8  648   59   25   74  122   45    1\n",
            "  106   62   13    4  638 1823   16   39  845    1    4   86  221    5\n",
            " 3414   18   14  231   14 2311 2595    3  528 1427  137   11   28    7\n",
            "  264    6 1638    1    1    7  338 2613   41    1 8134  458    2   19\n",
            "   60  915    4 1234 1137    5 2135  594 5842    1    1   14    1    3\n",
            " 8456 2274 5645   14    1   23   49  679 1787    0    0    0], shape=(250,), dtype=int64)\n"
          ]
        }
      ]
    },
    {
      "cell_type": "code",
      "source": [
        "# view the vocabulary represented by the intget token\n",
        "print(\"1287 ---> \",vectorize_layer.get_vocabulary()[1287])\n",
        "print(\" 313 ---> \",vectorize_layer.get_vocabulary()[313])\n",
        "print('Vocabulary size: {}'.format(len(vectorize_layer.get_vocabulary())))"
      ],
      "metadata": {
        "colab": {
          "base_uri": "https://localhost:8080/"
        },
        "id": "nug8hrCsb2SX",
        "outputId": "d171ab0e-ab90-40fa-d0c5-e7c2d4849e9d"
      },
      "execution_count": null,
      "outputs": [
        {
          "output_type": "stream",
          "name": "stdout",
          "text": [
            "1287 --->  silent\n",
            " 313 --->  night\n",
            "Vocabulary size: 10000\n"
          ]
        }
      ]
    },
    {
      "cell_type": "markdown",
      "source": [
        "## **Map the token to all the dataset**"
      ],
      "metadata": {
        "id": "gVJHv05e-Yzy"
      }
    },
    {
      "cell_type": "code",
      "source": [
        "train_ds = raw_train_ds.map(vectorize_text)\n",
        "val_ds = raw_val_ds.map(vectorize_text)\n",
        "test_ds = raw_test_ds.map(vectorize_text)"
      ],
      "metadata": {
        "id": "JFg2M2c7eddV"
      },
      "execution_count": null,
      "outputs": []
    },
    {
      "cell_type": "markdown",
      "source": [
        "## **Better Data Peformance Setting**"
      ],
      "metadata": {
        "id": "VvdqeHdcBwaH"
      }
    },
    {
      "cell_type": "code",
      "source": [
        "AUTOTUNE = tf.data.AUTOTUNE\n",
        "\n",
        "train_ds = train_ds.cache().prefetch(buffer_size=AUTOTUNE)\n",
        "val_ds = val_ds.cache().prefetch(buffer_size=AUTOTUNE)\n",
        "test_ds = test_ds.cache().prefetch(buffer_size=AUTOTUNE)"
      ],
      "metadata": {
        "id": "kDiZarwxBwyq"
      },
      "execution_count": null,
      "outputs": []
    },
    {
      "cell_type": "markdown",
      "source": [
        "# **Step 3 - Build the machine learning model**"
      ],
      "metadata": {
        "id": "FzNS2b3NB_sg"
      }
    },
    {
      "cell_type": "markdown",
      "source": [
        "**Embedding** \n",
        "\n",
        "This layer takes the integer-encoded reviews and looks up an embedding vector for each word-index. \n",
        "https://www.tensorflow.org/text/guide/word_embeddings\n",
        "\n",
        "**GlobalAveragePooling1D** \n",
        "\n",
        "layer returns a fixed-length output vector for each example by averaging over the sequence dimension. This allows the model to handle input of variable length, in the simplest way possible."
      ],
      "metadata": {
        "id": "ADsttoTngXhS"
      }
    },
    {
      "cell_type": "code",
      "source": [
        "embedding_dim = 16"
      ],
      "metadata": {
        "id": "QpWhdWx4CHwh"
      },
      "execution_count": null,
      "outputs": []
    },
    {
      "cell_type": "code",
      "source": [
        "model = tf.keras.Sequential([\n",
        "             layers.Embedding(max_features+ 1, embedding_dim),\n",
        "             layers.Dropout(0.2),\n",
        "             layers.GlobalAveragePooling1D(),\n",
        "             layers.Dropout(0.2),\n",
        "             layers.Dense(1)                \n",
        "])"
      ],
      "metadata": {
        "id": "4MOjxBIpCMVq"
      },
      "execution_count": null,
      "outputs": []
    },
    {
      "cell_type": "code",
      "source": [
        "model.summary()"
      ],
      "metadata": {
        "colab": {
          "base_uri": "https://localhost:8080/"
        },
        "id": "Dv4IX1_CCrhD",
        "outputId": "39169060-37ac-4e7c-ecfc-53d0cc14a418"
      },
      "execution_count": null,
      "outputs": [
        {
          "output_type": "stream",
          "name": "stdout",
          "text": [
            "Model: \"sequential\"\n",
            "_________________________________________________________________\n",
            " Layer (type)                Output Shape              Param #   \n",
            "=================================================================\n",
            " embedding (Embedding)       (None, None, 16)          160016    \n",
            "                                                                 \n",
            " dropout (Dropout)           (None, None, 16)          0         \n",
            "                                                                 \n",
            " global_average_pooling1d (G  (None, 16)               0         \n",
            " lobalAveragePooling1D)                                          \n",
            "                                                                 \n",
            " dropout_1 (Dropout)         (None, 16)                0         \n",
            "                                                                 \n",
            " dense (Dense)               (None, 1)                 17        \n",
            "                                                                 \n",
            "=================================================================\n",
            "Total params: 160,033\n",
            "Trainable params: 160,033\n",
            "Non-trainable params: 0\n",
            "_________________________________________________________________\n"
          ]
        }
      ]
    },
    {
      "cell_type": "markdown",
      "source": [
        "# **Step 4 - Compile Model with optimizer, loss, metrics**"
      ],
      "metadata": {
        "id": "YjCXmQD6j51U"
      }
    },
    {
      "cell_type": "code",
      "source": [
        "model.compile(optimizer='adam',\n",
        "              loss=losses.BinaryCrossentropy(from_logits=True),\n",
        "              metrics=tf.metrics.BinaryAccuracy(threshold=0.0))\n",
        "\n",
        "#Threshold (Optional) Float representing the threshold for deciding whether prediction values are 1 or 0."
      ],
      "metadata": {
        "id": "mIkKzL_fCvSZ"
      },
      "execution_count": null,
      "outputs": []
    },
    {
      "cell_type": "markdown",
      "source": [
        "# **Step 5-Train the model**"
      ],
      "metadata": {
        "id": "iuO-8UzSmHlZ"
      }
    },
    {
      "cell_type": "code",
      "source": [
        "epochs = 10\n",
        "history = model.fit(\n",
        "    train_ds,\n",
        "    epochs = epochs,\n",
        "    validation_data = val_ds\n",
        ")"
      ],
      "metadata": {
        "colab": {
          "base_uri": "https://localhost:8080/"
        },
        "id": "2g1NWAZglVxc",
        "outputId": "b3c8871b-0bc4-49b7-a716-96a381d56762"
      },
      "execution_count": null,
      "outputs": [
        {
          "output_type": "stream",
          "name": "stdout",
          "text": [
            "Epoch 1/10\n",
            "625/625 [==============================] - 13s 19ms/step - loss: 0.6622 - binary_accuracy: 0.6975 - val_loss: 0.6136 - val_binary_accuracy: 0.7726\n",
            "Epoch 2/10\n",
            "625/625 [==============================] - 5s 8ms/step - loss: 0.5485 - binary_accuracy: 0.8007 - val_loss: 0.4990 - val_binary_accuracy: 0.8216\n",
            "Epoch 3/10\n",
            "625/625 [==============================] - 5s 8ms/step - loss: 0.4461 - binary_accuracy: 0.8451 - val_loss: 0.4212 - val_binary_accuracy: 0.8468\n",
            "Epoch 4/10\n",
            "625/625 [==============================] - 5s 8ms/step - loss: 0.3791 - binary_accuracy: 0.8645 - val_loss: 0.3746 - val_binary_accuracy: 0.8614\n",
            "Epoch 5/10\n",
            "625/625 [==============================] - 5s 8ms/step - loss: 0.3362 - binary_accuracy: 0.8790 - val_loss: 0.3458 - val_binary_accuracy: 0.8664\n",
            "Epoch 6/10\n",
            "625/625 [==============================] - 6s 9ms/step - loss: 0.3051 - binary_accuracy: 0.8885 - val_loss: 0.3264 - val_binary_accuracy: 0.8716\n",
            "Epoch 7/10\n",
            "625/625 [==============================] - 5s 8ms/step - loss: 0.2821 - binary_accuracy: 0.8974 - val_loss: 0.3131 - val_binary_accuracy: 0.8728\n",
            "Epoch 8/10\n",
            "625/625 [==============================] - 5s 8ms/step - loss: 0.2625 - binary_accuracy: 0.9049 - val_loss: 0.3035 - val_binary_accuracy: 0.8754\n",
            "Epoch 9/10\n",
            "625/625 [==============================] - 5s 8ms/step - loss: 0.2457 - binary_accuracy: 0.9100 - val_loss: 0.2969 - val_binary_accuracy: 0.8778\n",
            "Epoch 10/10\n",
            "625/625 [==============================] - 5s 8ms/step - loss: 0.2306 - binary_accuracy: 0.9163 - val_loss: 0.2923 - val_binary_accuracy: 0.8796\n"
          ]
        }
      ]
    },
    {
      "cell_type": "markdown",
      "source": [
        "# **Step 6 - Evaluate the model & Visualize the loss and accuracy**"
      ],
      "metadata": {
        "id": "pHOZ4iShtkVw"
      }
    },
    {
      "cell_type": "code",
      "source": [
        "model.evaluate(test_ds, verbose=2)"
      ],
      "metadata": {
        "colab": {
          "base_uri": "https://localhost:8080/"
        },
        "id": "aEjvPrC3tk34",
        "outputId": "2e9916e3-e300-4fcd-cd0b-e3211099ff62"
      },
      "execution_count": null,
      "outputs": [
        {
          "output_type": "stream",
          "name": "stdout",
          "text": [
            "782/782 - 7s - loss: 0.3100 - binary_accuracy: 0.8740 - 7s/epoch - 9ms/step\n"
          ]
        },
        {
          "output_type": "execute_result",
          "data": {
            "text/plain": [
              "[0.31003624200820923, 0.8740400075912476]"
            ]
          },
          "metadata": {},
          "execution_count": 25
        }
      ]
    },
    {
      "cell_type": "code",
      "source": [
        "history_dict = history.history\n",
        "history_dict.keys()"
      ],
      "metadata": {
        "colab": {
          "base_uri": "https://localhost:8080/"
        },
        "id": "G1w5rkhptrKI",
        "outputId": "b45d7d20-d7c0-4f3b-800e-735e1156fab2"
      },
      "execution_count": null,
      "outputs": [
        {
          "output_type": "execute_result",
          "data": {
            "text/plain": [
              "dict_keys(['loss', 'binary_accuracy', 'val_loss', 'val_binary_accuracy'])"
            ]
          },
          "metadata": {},
          "execution_count": 26
        }
      ]
    },
    {
      "cell_type": "code",
      "source": [
        "loss_values= history_dict ['loss']\n",
        "val_loss_values = history_dict ['val_loss']\n",
        "epochs = range(1, len(loss_values) + 1)\n",
        "\n",
        "plt.plot(epochs, loss_values, 'bo', label = 'Training loss')\n",
        "plt.plot(epochs, val_loss_values, 'b', label = 'Validation loss')\n",
        "plt.title(\"Training and validation loss - Tensorflow Tutorial\")\n",
        "plt.xlabel(\"Epochs\")\n",
        "plt.ylabel(\"Loss\")\n",
        "plt.legend()\n",
        "plt.show()"
      ],
      "metadata": {
        "colab": {
          "base_uri": "https://localhost:8080/",
          "height": 295
        },
        "id": "gnySgqJBwpEk",
        "outputId": "9e8db9e0-3e1e-4419-f7ea-90ebb7112452"
      },
      "execution_count": null,
      "outputs": [
        {
          "output_type": "display_data",
          "data": {
            "text/plain": [
              "<Figure size 432x288 with 1 Axes>"
            ],
            "image/png": "[encoded data removed]"
          },
          "metadata": {
            "needs_background": "light"
          }
        }
      ]
    },
    {
      "cell_type": "code",
      "source": [
        "plt.clf()\n",
        "\n",
        "acc = history_dict ['binary_accuracy']\n",
        "val_acc = history_dict ['val_binary_accuracy']\n",
        "\n",
        "plt.plot(epochs, acc , 'bo', label = 'Training acc')\n",
        "plt.plot(epochs, val_acc , 'b', label = 'Validation acc')\n",
        "plt.title(\"Training and validation accuracy - Tensorflow Tutorial\")\n",
        "plt.xlabel(\"Epochs\")\n",
        "plt.ylabel(\"Loss\")\n",
        "plt.legend()\n",
        "plt.show()"
      ],
      "metadata": {
        "colab": {
          "base_uri": "https://localhost:8080/",
          "height": 295
        },
        "id": "Ec6zI2YR0SJw",
        "outputId": "5b47b14c-af8f-44df-e371-67019daf0ff9"
      },
      "execution_count": null,
      "outputs": [
        {
          "output_type": "display_data",
          "data": {
            "text/plain": [
              "<Figure size 432x288 with 1 Axes>"
            ],
            "image/png": "[encoded data removed]"
          },
          "metadata": {
            "needs_background": "light"
          }
        }
      ]
    },
    {
      "cell_type": "markdown",
      "source": [
        "# **Step 7 - Export the model**"
      ],
      "metadata": {
        "id": "Rm9K55mGuhYL"
      }
    },
    {
      "cell_type": "markdown",
      "source": [
        "To include **Vectorization Layer** before model layers\n",
        "\n",
        "To include **Activation Layer** after model layers"
      ],
      "metadata": {
        "id": "13y4RGf9vlQq"
      }
    },
    {
      "cell_type": "code",
      "source": [
        "export_model = tf.keras.Sequential([\n",
        "                                    vectorize_layer,\n",
        "                                    model,\n",
        "                                    layers.Activation('sigmoid')\n",
        "])"
      ],
      "metadata": {
        "id": "83-VIdCqA7MG"
      },
      "execution_count": null,
      "outputs": []
    },
    {
      "cell_type": "code",
      "source": [
        "export_model.compile(optimizer='adam',\n",
        "              loss=losses.BinaryCrossentropy(from_logits=True),\n",
        "              metrics=['accuracy'])"
      ],
      "metadata": {
        "id": "i6H55_TDwPYA"
      },
      "execution_count": null,
      "outputs": []
    },
    {
      "cell_type": "code",
      "source": [
        "# Test it with `raw_test_ds`, which yields raw strings\n",
        "export_model.evaluate(raw_test_ds, verbose=2)"
      ],
      "metadata": {
        "colab": {
          "base_uri": "https://localhost:8080/"
        },
        "id": "Hcg3VSRzwiDl",
        "outputId": "05b471ab-dbaa-4d74-f963-3ccf8b29dce4"
      },
      "execution_count": null,
      "outputs": [
        {
          "output_type": "stream",
          "name": "stderr",
          "text": [
            "/usr/local/lib/python3.7/dist-packages/tensorflow/python/util/dispatch.py:1082: UserWarning: \"`binary_crossentropy` received `from_logits=True`, but the `output` argument was produced by a sigmoid or softmax activation and thus does not represent logits. Was this intended?\"\n",
            "  return dispatch_target(*args, **kwargs)\n"
          ]
        },
        {
          "output_type": "stream",
          "name": "stdout",
          "text": [
            "782/782 - 8s - loss: 0.3100 - accuracy: 0.8740 - 8s/epoch - 10ms/step\n"
          ]
        },
        {
          "output_type": "execute_result",
          "data": {
            "text/plain": [
              "[0.31003642082214355, 0.8740400075912476]"
            ]
          },
          "metadata": {},
          "execution_count": 56
        }
      ]
    },
    {
      "cell_type": "markdown",
      "source": [
        "# **Step 8 - Prediction**"
      ],
      "metadata": {
        "id": "XjkkziGXxC1F"
      }
    },
    {
      "cell_type": "code",
      "source": [
        "examples = [\n",
        "  \"The movie was great!\",\n",
        "  \"The movie was okay.\",\n",
        "  \"The movie was terrible...\",\n",
        "  \"It is suck, terrible and boring\"\n",
        "]\n",
        "\n",
        "export_model.predict(examples)"
      ],
      "metadata": {
        "colab": {
          "base_uri": "https://localhost:8080/"
        },
        "id": "2kkt17Q0xHJd",
        "outputId": "8da5b294-c5a5-4d23-fefa-a580ef865f97"
      },
      "execution_count": null,
      "outputs": [
        {
          "output_type": "execute_result",
          "data": {
            "text/plain": [
              "array([[0.61251515],\n",
              "       [0.434301  ],\n",
              "       [0.35201383],\n",
              "       [0.22422329]], dtype=float32)"
            ]
          },
          "metadata": {},
          "execution_count": 68
        }
      ]
    },
    {
      "cell_type": "code",
      "source": [
        "examples = [\"Spider-Man: No Way Home is a phenomenal conclusion to the trilogy and Holland's best outing as Spidey yet. Starts off fun, safe and familiar and then becomes extremely emotional, satisfying and full of great callbacks. A love letter to all things Spider-Man.Tom Holland gives an incredible lead performance once again, reliably charming and likeable but with a lot more emotional heft this time around. Zendaya and Jacob Batalon both have perfect chemistry with Holland and are also incredible in their own ways.Benedict Cumberbatch reaffirms why he's such a good Doctor Strange with his excellent dry wit and gravitas. All the returning villains give strong performances but Willem Dafoe is definitely the standout performance with an unsettling and terrifying presence.Jon Watts' direction is superb, the action sequences are thrillingly acrobatic once again but refreshingly impactful this time around. There's a few homages to the styles of the previous iterations and some gorgeous imagery.It's also perfectly paced with none of its roughly 2hr 30 minute runtime feeling dull or overly long due to a strong momentum established early on. The CG is extremely impressive with only a few weak spots.The music by Michael Giacchino is fantastic, a nice balance of themes from the previous iterations and use of Holland's iconic motifs which are slightly altered in ways that work as well as a few new additions that are beautifully epic.\"]\n",
        "\n",
        "export_model.predict(examples)"
      ],
      "metadata": {
        "colab": {
          "base_uri": "https://localhost:8080/"
        },
        "id": "bKFWtrtm07dV",
        "outputId": "53a662fa-45a3-4852-b5eb-4daf11b91ef9"
      },
      "execution_count": null,
      "outputs": [
        {
          "output_type": "execute_result",
          "data": {
            "text/plain": [
              "array([[0.999846]], dtype=float32)"
            ]
          },
          "metadata": {},
          "execution_count": 62
        }
      ]
    }
  ]
}