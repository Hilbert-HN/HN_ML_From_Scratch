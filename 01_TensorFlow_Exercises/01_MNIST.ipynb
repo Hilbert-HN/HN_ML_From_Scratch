{
  "nbformat": 4,
  "nbformat_minor": 0,
  "metadata": {
    "colab": {
      "name": "01-MNIST.ipynb",
      "provenance": [],
      "collapsed_sections": [
        "HYfnWSD6YFNl",
        "vae3n3NVdb3p"
      ],
      "authorship_tag": "ABX9TyMo9iblkalan5uu/F6PgI72",
      "include_colab_link": true
    },
    "kernelspec": {
      "name": "python3",
      "display_name": "Python 3"
    },
    "language_info": {
      "name": "python"
    }
  },
  "cells": [
    {
      "cell_type": "markdown",
      "metadata": {
        "id": "view-in-github",
        "colab_type": "text"
      },
      "source": [
        "<a href=\"https://colab.research.google.com/github/Hilbert-HN/HN_ML_From_Scratch/blob/main/01_MNIST.ipynb\" target=\"_parent\"><img src=\"https://colab.research.google.com/assets/colab-badge.svg\" alt=\"Open In Colab\"/></a>"
      ]
    },
    {
      "cell_type": "markdown",
      "source": [
        "**01-MNIST** \\\n",
        "MNIST is grayscale handwritten digits dataset available in Keras \\\n",
        "[Tutorial] - https://www.tensorflow.org/tutorials/quickstart/beginner \\\n",
        "[Book: Deep Learning with Python, François Chollet] - Chapter 2\n",
        "\n"
      ],
      "metadata": {
        "id": "E716E3NwET0i"
      }
    },
    {
      "cell_type": "markdown",
      "source": [
        "## **0-Import TensorFlow**"
      ],
      "metadata": {
        "id": "2DC7P9JhEglQ"
      }
    },
    {
      "cell_type": "code",
      "execution_count": 2,
      "metadata": {
        "id": "6jb3uX3lEIqS"
      },
      "outputs": [],
      "source": [
        "import tensorflow as tf"
      ]
    },
    {
      "cell_type": "code",
      "source": [
        "print(tf.__version__)"
      ],
      "metadata": {
        "colab": {
          "base_uri": "https://localhost:8080/"
        },
        "id": "CCzBUgBVEo9y",
        "outputId": "96b54c1c-20d1-412d-ca74-a3475d7f298b"
      },
      "execution_count": 3,
      "outputs": [
        {
          "output_type": "stream",
          "name": "stdout",
          "text": [
            "2.8.0\n"
          ]
        }
      ]
    },
    {
      "cell_type": "markdown",
      "source": [
        "## **1-Load Dataset**"
      ],
      "metadata": {
        "id": "CvlTZD3VEud9"
      }
    },
    {
      "cell_type": "code",
      "source": [
        "mnist = tf.keras.datasets.mnist"
      ],
      "metadata": {
        "id": "DaHZuVQfEtzm"
      },
      "execution_count": 4,
      "outputs": []
    },
    {
      "cell_type": "code",
      "source": [
        "(x_train, y_train), (x_test, y_test) = mnist.load_data()"
      ],
      "metadata": {
        "id": "mOmddg24Er37",
        "colab": {
          "base_uri": "https://localhost:8080/"
        },
        "outputId": "8de23cfc-b8f7-4a5d-b1eb-6b8f7c57dfc1"
      },
      "execution_count": 5,
      "outputs": [
        {
          "output_type": "stream",
          "name": "stdout",
          "text": [
            "Downloading data from https://storage.googleapis.com/tensorflow/tf-keras-datasets/mnist.npz\n",
            "11493376/11490434 [==============================] - 0s 0us/step\n",
            "11501568/11490434 [==============================] - 0s 0us/step\n"
          ]
        }
      ]
    },
    {
      "cell_type": "code",
      "source": [
        "print(x_train.shape)\n",
        "print(x_test.shape)\n",
        "print(y_train.shape)\n",
        "print(y_test.shape)"
      ],
      "metadata": {
        "colab": {
          "base_uri": "https://localhost:8080/"
        },
        "id": "gkxdOychFucE",
        "outputId": "71451f73-e7ac-4e2b-d97a-b31fe505c3f4"
      },
      "execution_count": 6,
      "outputs": [
        {
          "output_type": "stream",
          "name": "stdout",
          "text": [
            "(60000, 28, 28)\n",
            "(10000, 28, 28)\n",
            "(60000,)\n",
            "(10000,)\n"
          ]
        }
      ]
    },
    {
      "cell_type": "code",
      "source": [
        "print(y_train)"
      ],
      "metadata": {
        "colab": {
          "base_uri": "https://localhost:8080/"
        },
        "id": "HTuvaFQ_HOOW",
        "outputId": "8be65dbb-ff30-4ceb-bc5c-33932ff2eee9"
      },
      "execution_count": 7,
      "outputs": [
        {
          "output_type": "stream",
          "name": "stdout",
          "text": [
            "[5 0 4 ... 5 6 8]\n"
          ]
        }
      ]
    },
    {
      "cell_type": "code",
      "source": [
        "#Each image in MNIST dataset is an 28x28 matix with 0-255 values\n",
        "print(x_train[0])"
      ],
      "metadata": {
        "colab": {
          "base_uri": "https://localhost:8080/"
        },
        "id": "sa4sgMhYMiAt",
        "outputId": "e48c101f-5aa8-4ac6-ced2-43ec97ed07e9"
      },
      "execution_count": 8,
      "outputs": [
        {
          "output_type": "stream",
          "name": "stdout",
          "text": [
            "[[  0   0   0   0   0   0   0   0   0   0   0   0   0   0   0   0   0   0\n",
            "    0   0   0   0   0   0   0   0   0   0]\n",
            " [  0   0   0   0   0   0   0   0   0   0   0   0   0   0   0   0   0   0\n",
            "    0   0   0   0   0   0   0   0   0   0]\n",
            " [  0   0   0   0   0   0   0   0   0   0   0   0   0   0   0   0   0   0\n",
            "    0   0   0   0   0   0   0   0   0   0]\n",
            " [  0   0   0   0   0   0   0   0   0   0   0   0   0   0   0   0   0   0\n",
            "    0   0   0   0   0   0   0   0   0   0]\n",
            " [  0   0   0   0   0   0   0   0   0   0   0   0   0   0   0   0   0   0\n",
            "    0   0   0   0   0   0   0   0   0   0]\n",
            " [  0   0   0   0   0   0   0   0   0   0   0   0   3  18  18  18 126 136\n",
            "  175  26 166 255 247 127   0   0   0   0]\n",
            " [  0   0   0   0   0   0   0   0  30  36  94 154 170 253 253 253 253 253\n",
            "  225 172 253 242 195  64   0   0   0   0]\n",
            " [  0   0   0   0   0   0   0  49 238 253 253 253 253 253 253 253 253 251\n",
            "   93  82  82  56  39   0   0   0   0   0]\n",
            " [  0   0   0   0   0   0   0  18 219 253 253 253 253 253 198 182 247 241\n",
            "    0   0   0   0   0   0   0   0   0   0]\n",
            " [  0   0   0   0   0   0   0   0  80 156 107 253 253 205  11   0  43 154\n",
            "    0   0   0   0   0   0   0   0   0   0]\n",
            " [  0   0   0   0   0   0   0   0   0  14   1 154 253  90   0   0   0   0\n",
            "    0   0   0   0   0   0   0   0   0   0]\n",
            " [  0   0   0   0   0   0   0   0   0   0   0 139 253 190   2   0   0   0\n",
            "    0   0   0   0   0   0   0   0   0   0]\n",
            " [  0   0   0   0   0   0   0   0   0   0   0  11 190 253  70   0   0   0\n",
            "    0   0   0   0   0   0   0   0   0   0]\n",
            " [  0   0   0   0   0   0   0   0   0   0   0   0  35 241 225 160 108   1\n",
            "    0   0   0   0   0   0   0   0   0   0]\n",
            " [  0   0   0   0   0   0   0   0   0   0   0   0   0  81 240 253 253 119\n",
            "   25   0   0   0   0   0   0   0   0   0]\n",
            " [  0   0   0   0   0   0   0   0   0   0   0   0   0   0  45 186 253 253\n",
            "  150  27   0   0   0   0   0   0   0   0]\n",
            " [  0   0   0   0   0   0   0   0   0   0   0   0   0   0   0  16  93 252\n",
            "  253 187   0   0   0   0   0   0   0   0]\n",
            " [  0   0   0   0   0   0   0   0   0   0   0   0   0   0   0   0   0 249\n",
            "  253 249  64   0   0   0   0   0   0   0]\n",
            " [  0   0   0   0   0   0   0   0   0   0   0   0   0   0  46 130 183 253\n",
            "  253 207   2   0   0   0   0   0   0   0]\n",
            " [  0   0   0   0   0   0   0   0   0   0   0   0  39 148 229 253 253 253\n",
            "  250 182   0   0   0   0   0   0   0   0]\n",
            " [  0   0   0   0   0   0   0   0   0   0  24 114 221 253 253 253 253 201\n",
            "   78   0   0   0   0   0   0   0   0   0]\n",
            " [  0   0   0   0   0   0   0   0  23  66 213 253 253 253 253 198  81   2\n",
            "    0   0   0   0   0   0   0   0   0   0]\n",
            " [  0   0   0   0   0   0  18 171 219 253 253 253 253 195  80   9   0   0\n",
            "    0   0   0   0   0   0   0   0   0   0]\n",
            " [  0   0   0   0  55 172 226 253 253 253 253 244 133  11   0   0   0   0\n",
            "    0   0   0   0   0   0   0   0   0   0]\n",
            " [  0   0   0   0 136 253 253 253 212 135 132  16   0   0   0   0   0   0\n",
            "    0   0   0   0   0   0   0   0   0   0]\n",
            " [  0   0   0   0   0   0   0   0   0   0   0   0   0   0   0   0   0   0\n",
            "    0   0   0   0   0   0   0   0   0   0]\n",
            " [  0   0   0   0   0   0   0   0   0   0   0   0   0   0   0   0   0   0\n",
            "    0   0   0   0   0   0   0   0   0   0]\n",
            " [  0   0   0   0   0   0   0   0   0   0   0   0   0   0   0   0   0   0\n",
            "    0   0   0   0   0   0   0   0   0   0]]\n"
          ]
        }
      ]
    },
    {
      "cell_type": "markdown",
      "source": [
        "## **2-Preprocessing the dataset**"
      ],
      "metadata": {
        "id": "syhkAI0LMUuB"
      }
    },
    {
      "cell_type": "markdown",
      "source": [
        "Transfom the 0-255 values in the matrix to between 0-1"
      ],
      "metadata": {
        "id": "_sSCkPaKObeu"
      }
    },
    {
      "cell_type": "code",
      "source": [
        "from matplotlib import pyplot as plt\n",
        "plt.imshow(x_train[0], cmap='gray_r')\n",
        "plt.show()"
      ],
      "metadata": {
        "colab": {
          "base_uri": "https://localhost:8080/",
          "height": 265
        },
        "id": "-tLFZ3bRMyte",
        "outputId": "278041a0-a214-45b5-8105-1e7a724a78d7"
      },
      "execution_count": 9,
      "outputs": [
        {
          "output_type": "display_data",
          "data": {
            "text/plain": [
              "<Figure size 432x288 with 1 Axes>"
            ],
            "image/png": "[encoded data removed]"
          },
          "metadata": {
            "needs_background": "light"
          }
        }
      ]
    },
    {
      "cell_type": "code",
      "source": [
        "# Tensorflow keep the image as matrix and flatten in the network\n",
        "x_train_T = x_train / 255.0\n",
        "x_test_T = x_test / 255.0\n",
        "#x_train_T[0]"
      ],
      "metadata": {
        "id": "HuRkUJdnMZyV"
      },
      "execution_count": 10,
      "outputs": []
    },
    {
      "cell_type": "code",
      "source": [
        "# Deep Learning with Python flatten the image first\n",
        "x_train_D = x_train.reshape((60000, 28*28))\n",
        "x_train_D = x_train_D.astype('float32') / 255\n",
        "x_test_D = x_test.reshape((10000, 28*28))\n",
        "x_test_D = x_test_D.astype('float32') / 255\n",
        "#x_train_D[0]"
      ],
      "metadata": {
        "id": "DbtB0A-4NjgJ"
      },
      "execution_count": 11,
      "outputs": []
    },
    {
      "cell_type": "markdown",
      "source": [
        "## **3-Build the machine learning model**"
      ],
      "metadata": {
        "id": "zgXPgkiwJFD_"
      }
    },
    {
      "cell_type": "markdown",
      "source": [
        "**Tensorflow**"
      ],
      "metadata": {
        "id": "GwZe16fzXiPl"
      }
    },
    {
      "cell_type": "code",
      "source": [
        "#Tensorflow example didnt import below and use tf.keras. when using keras API\n",
        "from tensorflow import keras\n",
        "from tensorflow.keras import layers"
      ],
      "metadata": {
        "id": "_hDvYBdnH7Dw"
      },
      "execution_count": 12,
      "outputs": []
    },
    {
      "cell_type": "code",
      "source": [
        "#tensorflow - network architecture\n",
        "model_T = keras.Sequential([\n",
        "                          layers.Flatten(input_shape=(28,28)),\n",
        "                          layers.Dense(128, activation = 'relu'),\n",
        "                          layers.Dropout(0.2),\n",
        "                          layers.Dense(10)\n",
        "])"
      ],
      "metadata": {
        "id": "CNc6-yxjJW6r"
      },
      "execution_count": 13,
      "outputs": []
    },
    {
      "cell_type": "code",
      "source": [
        "#try to do prediction without training\n",
        "predictions = model_T (x_train_T[:1]).numpy()\n",
        "predictions"
      ],
      "metadata": {
        "colab": {
          "base_uri": "https://localhost:8080/"
        },
        "id": "YSYDJVHHRwZM",
        "outputId": "7f521b53-e713-46ee-eb18-cc55b42be257"
      },
      "execution_count": 14,
      "outputs": [
        {
          "output_type": "execute_result",
          "data": {
            "text/plain": [
              "array([[ 0.22488977,  0.14538723,  0.3275162 , -0.04208509, -0.31013677,\n",
              "        -0.14671052,  0.63988215, -0.02725536,  0.13682103,  0.6248114 ]],\n",
              "      dtype=float32)"
            ]
          },
          "metadata": {},
          "execution_count": 14
        }
      ]
    },
    {
      "cell_type": "code",
      "source": [
        "#below layer can be combine with above model as an activation function\n",
        "#layers.Dense(10,activation = 'softmax')\n",
        "#it convert the logit output to probabiliites for each class, which added up to be 1\n",
        "#Tensflow do not recommend to combine\n",
        "probability_model_T = keras.Sequential([\n",
        "                                      model_T,\n",
        "                                      layers.Softmax()\n",
        "])"
      ],
      "metadata": {
        "id": "wHIxoYHBLkVj"
      },
      "execution_count": 15,
      "outputs": []
    },
    {
      "cell_type": "markdown",
      "source": [
        "*Note: It is possible to bake the tf.nn.softmax function into the activation function for the last layer of the network. While this can make the model output more directly interpretable, this approach is discouraged as it's impossible to provide an exact and numerically stable loss calculation for all models when using a softmax output.*"
      ],
      "metadata": {
        "id": "iLVa5sFeQWiU"
      }
    },
    {
      "cell_type": "markdown",
      "source": [
        "**Deep Learning with python**"
      ],
      "metadata": {
        "id": "XhLd4vCJXmD9"
      }
    },
    {
      "cell_type": "code",
      "source": [
        "#Tensorflow example didnt import below and use tf.keras. when using keras API\n",
        "from tensorflow import keras\n",
        "from tensorflow.keras import layers"
      ],
      "metadata": {
        "id": "r7pAR0OALGt8"
      },
      "execution_count": 16,
      "outputs": []
    },
    {
      "cell_type": "code",
      "source": [
        "#Deep Learning with Python - network architecture\n",
        "model_D = keras.Sequential([\n",
        "        layers.Dense(512, activation = 'relu'),\n",
        "        layers.Dense(10, activation='softmax')\n",
        "])"
      ],
      "metadata": {
        "id": "TDwtueAzJ0Rv"
      },
      "execution_count": 17,
      "outputs": []
    },
    {
      "cell_type": "markdown",
      "source": [
        "## **4-Complite Model with optimizer, loss, metrics**"
      ],
      "metadata": {
        "id": "WRW0P_FVS7mx"
      }
    },
    {
      "cell_type": "markdown",
      "source": [
        "**TensorFlow**"
      ],
      "metadata": {
        "id": "srXoRfEPXLa-"
      }
    },
    {
      "cell_type": "markdown",
      "source": [
        "Define loss function by calling keras.losses"
      ],
      "metadata": {
        "id": "JDNpIvSMSHkx"
      }
    },
    {
      "cell_type": "code",
      "source": [
        "loss_fn = keras.losses.SparseCategoricalCrossentropy(from_logits=True)"
      ],
      "metadata": {
        "id": "28ZiwNjFKt5L"
      },
      "execution_count": 18,
      "outputs": []
    },
    {
      "cell_type": "code",
      "source": [
        "#lets get the loss between the correct label vs random prediction \n",
        "loss_fn(y_train[:1], predictions).numpy()"
      ],
      "metadata": {
        "colab": {
          "base_uri": "https://localhost:8080/"
        },
        "id": "u-NrKngYRpQk",
        "outputId": "0c1f65ab-146f-4cbb-9289-5d087daea0d5"
      },
      "execution_count": 19,
      "outputs": [
        {
          "output_type": "execute_result",
          "data": {
            "text/plain": [
              "2.651073"
            ]
          },
          "metadata": {},
          "execution_count": 19
        }
      ]
    },
    {
      "cell_type": "code",
      "source": [
        "model_T.compile(optimizer = 'adam',\n",
        "              loss=loss_fn,\n",
        "              metrics=['accuracy'])"
      ],
      "metadata": {
        "id": "fxJyGnRKSwXa"
      },
      "execution_count": 20,
      "outputs": []
    },
    {
      "cell_type": "markdown",
      "source": [
        "**Deep Learning with Python**"
      ],
      "metadata": {
        "id": "45l4Gze2XApl"
      }
    },
    {
      "cell_type": "markdown",
      "source": [
        "loss function is defined inside model.complie"
      ],
      "metadata": {
        "id": "SmXCkTFgXG9Y"
      }
    },
    {
      "cell_type": "code",
      "source": [
        "model_D.compile(optimizer = 'rmsprop',\n",
        "                 loss = 'sparse_categorical_crossentropy',\n",
        "                 metrics = ['accuracy'])"
      ],
      "metadata": {
        "id": "pAR4hoEJTUX1"
      },
      "execution_count": 21,
      "outputs": []
    },
    {
      "cell_type": "markdown",
      "source": [
        "## **5-Train the model**"
      ],
      "metadata": {
        "id": "HkR8-hPtT2en"
      }
    },
    {
      "cell_type": "code",
      "source": [
        "# # Clean the model before new training,\n",
        "# # run step 3, 4 again\n",
        "# model_T = []\n",
        "# model_D = []"
      ],
      "metadata": {
        "id": "ATRUnjEnevKR"
      },
      "execution_count": 22,
      "outputs": []
    },
    {
      "cell_type": "code",
      "source": [
        "# To get the history for viewing curve\n",
        "# add validation_data and store the model\n",
        "history_T = model_T.fit(x_train_T, y_train, \n",
        "            epochs=5, \n",
        "            validation_data = (x_test_T, y_test))"
      ],
      "metadata": {
        "colab": {
          "base_uri": "https://localhost:8080/"
        },
        "id": "f1YtV-zvTmqk",
        "outputId": "48b51bb7-bb57-458c-8bfa-1ef2854497e2"
      },
      "execution_count": 23,
      "outputs": [
        {
          "output_type": "stream",
          "name": "stdout",
          "text": [
            "Epoch 1/5\n",
            "1875/1875 [==============================] - 5s 3ms/step - loss: 0.2950 - accuracy: 0.9143 - val_loss: 0.1373 - val_accuracy: 0.9587\n",
            "Epoch 2/5\n",
            "1875/1875 [==============================] - 4s 2ms/step - loss: 0.1402 - accuracy: 0.9585 - val_loss: 0.0991 - val_accuracy: 0.9710\n",
            "Epoch 3/5\n",
            "1875/1875 [==============================] - 4s 2ms/step - loss: 0.1049 - accuracy: 0.9676 - val_loss: 0.0816 - val_accuracy: 0.9755\n",
            "Epoch 4/5\n",
            "1875/1875 [==============================] - 4s 2ms/step - loss: 0.0866 - accuracy: 0.9729 - val_loss: 0.0770 - val_accuracy: 0.9771\n",
            "Epoch 5/5\n",
            "1875/1875 [==============================] - 4s 2ms/step - loss: 0.0733 - accuracy: 0.9765 - val_loss: 0.0715 - val_accuracy: 0.9785\n"
          ]
        }
      ]
    },
    {
      "cell_type": "code",
      "source": [
        "# batch allow the gradient descent to adjust the weighting taking the average loss of the 128 num of training for gradient descent update\n",
        "history_D = model_D.fit(x_train_D, y_train,\n",
        "            epochs=5,\n",
        "            batch_size=128,\n",
        "            validation_data = (x_test_D, y_test))"
      ],
      "metadata": {
        "colab": {
          "base_uri": "https://localhost:8080/"
        },
        "id": "AXoJgeXgUHF7",
        "outputId": "9c1d2a74-6943-4eb5-eb80-587e131ea2c2"
      },
      "execution_count": 24,
      "outputs": [
        {
          "output_type": "stream",
          "name": "stdout",
          "text": [
            "Epoch 1/5\n",
            "469/469 [==============================] - 4s 8ms/step - loss: 0.2545 - accuracy: 0.9263 - val_loss: 0.1741 - val_accuracy: 0.9440\n",
            "Epoch 2/5\n",
            "469/469 [==============================] - 4s 8ms/step - loss: 0.1036 - accuracy: 0.9691 - val_loss: 0.0850 - val_accuracy: 0.9740\n",
            "Epoch 3/5\n",
            "469/469 [==============================] - 4s 8ms/step - loss: 0.0692 - accuracy: 0.9787 - val_loss: 0.0833 - val_accuracy: 0.9742\n",
            "Epoch 4/5\n",
            "469/469 [==============================] - 4s 8ms/step - loss: 0.0499 - accuracy: 0.9851 - val_loss: 0.0712 - val_accuracy: 0.9789\n",
            "Epoch 5/5\n",
            "469/469 [==============================] - 4s 8ms/step - loss: 0.0380 - accuracy: 0.9887 - val_loss: 0.0650 - val_accuracy: 0.9805\n"
          ]
        }
      ]
    },
    {
      "cell_type": "markdown",
      "source": [
        "## **6-Evaluate the model with Test set**"
      ],
      "metadata": {
        "id": "h0EmjUNMWDrv"
      }
    },
    {
      "cell_type": "code",
      "source": [
        "model_T.evaluate(x_test_T,  y_test, verbose=2)"
      ],
      "metadata": {
        "colab": {
          "base_uri": "https://localhost:8080/"
        },
        "id": "Uc9BiUn7UY7L",
        "outputId": "38020235-77ac-43ea-ab60-76bb12d02023"
      },
      "execution_count": 25,
      "outputs": [
        {
          "output_type": "stream",
          "name": "stdout",
          "text": [
            "313/313 - 0s - loss: 0.0715 - accuracy: 0.9785 - 372ms/epoch - 1ms/step\n"
          ]
        },
        {
          "output_type": "execute_result",
          "data": {
            "text/plain": [
              "[0.0715327039361, 0.9785000085830688]"
            ]
          },
          "metadata": {},
          "execution_count": 25
        }
      ]
    },
    {
      "cell_type": "code",
      "source": [
        "model_D.evaluate(x_test_D,  y_test, verbose=2)"
      ],
      "metadata": {
        "colab": {
          "base_uri": "https://localhost:8080/"
        },
        "id": "v8oaeq1zWZsK",
        "outputId": "82913b63-aca7-436b-ca78-c5d43a511a56"
      },
      "execution_count": 26,
      "outputs": [
        {
          "output_type": "stream",
          "name": "stdout",
          "text": [
            "313/313 - 1s - loss: 0.0650 - accuracy: 0.9805 - 603ms/epoch - 2ms/step\n"
          ]
        },
        {
          "output_type": "execute_result",
          "data": {
            "text/plain": [
              "[0.06497648358345032, 0.9804999828338623]"
            ]
          },
          "metadata": {},
          "execution_count": 26
        }
      ]
    },
    {
      "cell_type": "markdown",
      "source": [
        "## **7-Prediction**"
      ],
      "metadata": {
        "id": "HYfnWSD6YFNl"
      }
    },
    {
      "cell_type": "code",
      "source": [
        "import random\n",
        "test_index = random.randint(0,10000)\n",
        "test_index"
      ],
      "metadata": {
        "colab": {
          "base_uri": "https://localhost:8080/"
        },
        "id": "DWz7pAePb2bI",
        "outputId": "b9531d81-54f8-425a-a7db-924c43929ac5"
      },
      "execution_count": 27,
      "outputs": [
        {
          "output_type": "execute_result",
          "data": {
            "text/plain": [
              "2125"
            ]
          },
          "metadata": {},
          "execution_count": 27
        }
      ]
    },
    {
      "cell_type": "code",
      "source": [
        "y_test[test_index]"
      ],
      "metadata": {
        "colab": {
          "base_uri": "https://localhost:8080/"
        },
        "id": "MuFlNcFEafQt",
        "outputId": "6bd1372b-70dc-4244-94b6-b80d57c56683"
      },
      "execution_count": 28,
      "outputs": [
        {
          "output_type": "execute_result",
          "data": {
            "text/plain": [
              "5"
            ]
          },
          "metadata": {},
          "execution_count": 28
        }
      ]
    },
    {
      "cell_type": "code",
      "source": [
        "plt.imshow(x_test[test_index],cmap=\"gray\")\n",
        "plt.show()"
      ],
      "metadata": {
        "colab": {
          "base_uri": "https://localhost:8080/",
          "height": 265
        },
        "id": "cgbfierDrqVz",
        "outputId": "15fa697c-ad05-447f-a261-01b3e51b8f98"
      },
      "execution_count": 29,
      "outputs": [
        {
          "output_type": "display_data",
          "data": {
            "text/plain": [
              "<Figure size 432x288 with 1 Axes>"
            ],
            "image/png": "[encoded data removed]"
          },
          "metadata": {
            "needs_background": "light"
          }
        }
      ]
    },
    {
      "cell_type": "code",
      "source": [
        "prediction_T = probability_model_T(x_test_T[[test_index]])\n",
        "prediction_T = prediction_T.numpy()\n",
        "prediction_T"
      ],
      "metadata": {
        "colab": {
          "base_uri": "https://localhost:8080/"
        },
        "id": "h5ERgcBnWbcD",
        "outputId": "df2c8980-e1e9-4fcf-8a4f-53c3d3db5b55"
      },
      "execution_count": 30,
      "outputs": [
        {
          "output_type": "execute_result",
          "data": {
            "text/plain": [
              "array([[6.94955725e-06, 1.12420912e-06, 1.19765355e-05, 1.11589953e-03,\n",
              "        8.92181322e-03, 5.71671665e-01, 2.60533619e-04, 2.24399311e-03,\n",
              "        2.91030505e-04, 4.15475100e-01]], dtype=float32)"
            ]
          },
          "metadata": {},
          "execution_count": 30
        }
      ]
    },
    {
      "cell_type": "code",
      "source": [
        "prediction_D = model_D.predict(x_test_D[[test_index]])\n",
        "prediction_D"
      ],
      "metadata": {
        "colab": {
          "base_uri": "https://localhost:8080/"
        },
        "id": "4fJUi8i-Y2R3",
        "outputId": "adb70142-35ea-4b2d-d039-b491c144d7ec"
      },
      "execution_count": 31,
      "outputs": [
        {
          "output_type": "execute_result",
          "data": {
            "text/plain": [
              "array([[5.2450730e-07, 1.7674718e-07, 8.6254540e-06, 4.8330458e-04,\n",
              "        1.5811570e-04, 9.7582418e-01, 2.2645378e-03, 5.2694755e-04,\n",
              "        3.6436628e-04, 2.0369081e-02]], dtype=float32)"
            ]
          },
          "metadata": {},
          "execution_count": 31
        }
      ]
    },
    {
      "cell_type": "code",
      "source": [
        "prediction_T[0].argmax()"
      ],
      "metadata": {
        "colab": {
          "base_uri": "https://localhost:8080/"
        },
        "id": "_g9p4Qu6bpNr",
        "outputId": "a1a9159e-192d-4128-b0e4-5002c1dfc139"
      },
      "execution_count": 32,
      "outputs": [
        {
          "output_type": "execute_result",
          "data": {
            "text/plain": [
              "5"
            ]
          },
          "metadata": {},
          "execution_count": 32
        }
      ]
    },
    {
      "cell_type": "code",
      "source": [
        "prediction_D[0].argmax()"
      ],
      "metadata": {
        "colab": {
          "base_uri": "https://localhost:8080/"
        },
        "id": "XhZWlNFFY8U7",
        "outputId": "19712c26-3af9-4ebf-f312-9c0236abdf19"
      },
      "execution_count": 33,
      "outputs": [
        {
          "output_type": "execute_result",
          "data": {
            "text/plain": [
              "5"
            ]
          },
          "metadata": {},
          "execution_count": 33
        }
      ]
    },
    {
      "cell_type": "markdown",
      "source": [
        "## **8-Visualize the loss and accuracy**"
      ],
      "metadata": {
        "id": "vae3n3NVdb3p"
      }
    },
    {
      "cell_type": "code",
      "source": [
        "import matplotlib.pyplot as plt"
      ],
      "metadata": {
        "id": "Cwcv-sEcddn7"
      },
      "execution_count": 34,
      "outputs": []
    },
    {
      "cell_type": "code",
      "source": [
        "history_dict_T = history_T.history\n",
        "history_dict_D = history_D.history\n",
        "history_dict_T.keys()"
      ],
      "metadata": {
        "colab": {
          "base_uri": "https://localhost:8080/"
        },
        "id": "vCt3Vg7ad1Vc",
        "outputId": "4d1053c4-74ee-4708-c695-5bc55360a9bd"
      },
      "execution_count": 35,
      "outputs": [
        {
          "output_type": "execute_result",
          "data": {
            "text/plain": [
              "dict_keys(['loss', 'accuracy', 'val_loss', 'val_accuracy'])"
            ]
          },
          "metadata": {},
          "execution_count": 35
        }
      ]
    },
    {
      "cell_type": "code",
      "source": [
        "loss_values_T = history_dict_T ['loss']\n",
        "val_loss_values_T = history_dict_T ['val_loss']\n",
        "epochs = range(1, len(loss_values_T) + 1)\n",
        "\n",
        "plt.plot(epochs, loss_values_T, 'bo', label = 'Training loss')\n",
        "plt.plot(epochs, val_loss_values_T, 'b', label = 'Validation loss')\n",
        "plt.title(\"Training and validation loss - Tensorflow Tutorial\")\n",
        "plt.xlabel(\"Epochs\")\n",
        "plt.ylabel(\"Loss\")\n",
        "plt.legend()\n",
        "plt.show()"
      ],
      "metadata": {
        "id": "a5HnlW2ed13B",
        "colab": {
          "base_uri": "https://localhost:8080/",
          "height": 295
        },
        "outputId": "1a7e1b8c-77d1-4bb4-e942-9ef38209b8b2"
      },
      "execution_count": 36,
      "outputs": [
        {
          "output_type": "display_data",
          "data": {
            "text/plain": [
              "<Figure size 432x288 with 1 Axes>"
            ],
            "image/png": "[encoded data removed]"
          },
          "metadata": {
            "needs_background": "light"
          }
        }
      ]
    },
    {
      "cell_type": "code",
      "source": [
        "plt.clf() # clear\n",
        "\n",
        "loss_values_D = history_dict_D ['loss']\n",
        "val_loss_values_D = history_dict_D ['val_loss']\n",
        "epochs = range(1, len(loss_values_D) + 1)\n",
        "\n",
        "plt.plot(epochs, loss_values_D, 'ro', label = 'Training loss')\n",
        "plt.plot(epochs, val_loss_values_D, 'r', label = 'Validation loss')\n",
        "plt.title(\"Training and validation loss - Deep Learning With Python Tutorial\")\n",
        "plt.xlabel(\"Epochs\")\n",
        "plt.ylabel(\"Loss\")\n",
        "plt.legend()\n",
        "plt.show()"
      ],
      "metadata": {
        "colab": {
          "base_uri": "https://localhost:8080/",
          "height": 295
        },
        "id": "QWtiBqOyjOR1",
        "outputId": "c4ad9add-0e58-496b-a1cc-9a9ccb0804b5"
      },
      "execution_count": 37,
      "outputs": [
        {
          "output_type": "display_data",
          "data": {
            "text/plain": [
              "<Figure size 432x288 with 1 Axes>"
            ],
            "image/png": "[encoded data removed]"
          },
          "metadata": {
            "needs_background": "light"
          }
        }
      ]
    },
    {
      "cell_type": "code",
      "source": [
        "plt.clf()\n",
        "\n",
        "acc_T = history_dict_T ['accuracy']\n",
        "val_acc_T = history_dict_T ['val_accuracy']\n",
        "\n",
        "plt.plot(epochs, acc_T , 'bo', label = 'Training acc')\n",
        "plt.plot(epochs, val_acc_T , 'b', label = 'Validation acc')\n",
        "plt.title(\"Training and validation accuracy - Tensorflow Tutorial\")\n",
        "plt.xlabel(\"Epochs\")\n",
        "plt.ylabel(\"Loss\")\n",
        "plt.legend()\n",
        "plt.show()\n"
      ],
      "metadata": {
        "colab": {
          "base_uri": "https://localhost:8080/",
          "height": 295
        },
        "id": "8xF8zWpbiPz4",
        "outputId": "3da96e06-d4fd-4767-cb4e-f497c8d1ee68"
      },
      "execution_count": 38,
      "outputs": [
        {
          "output_type": "display_data",
          "data": {
            "text/plain": [
              "<Figure size 432x288 with 1 Axes>"
            ],
            "image/png": "[encoded data removed]"
          },
          "metadata": {
            "needs_background": "light"
          }
        }
      ]
    },
    {
      "cell_type": "code",
      "source": [
        "plt.clf()\n",
        "\n",
        "acc_D = history_dict_D ['accuracy']\n",
        "val_acc_D = history_dict_D ['val_accuracy']\n",
        "\n",
        "plt.plot(epochs, acc_T , 'ro', label = 'Training acc')\n",
        "plt.plot(epochs, val_acc_T , 'r', label = 'Validation acc')\n",
        "plt.title(\"Training and validation accuracy - Deep Learning With Python Tutorial\")\n",
        "plt.xlabel(\"Epochs\")\n",
        "plt.ylabel(\"Loss\")\n",
        "plt.legend()\n",
        "plt.show()"
      ],
      "metadata": {
        "colab": {
          "base_uri": "https://localhost:8080/",
          "height": 295
        },
        "id": "62A-0bEImaIY",
        "outputId": "9ebfd6e1-c920-47f5-b56a-796f4c5aedbe"
      },
      "execution_count": 39,
      "outputs": [
        {
          "output_type": "display_data",
          "data": {
            "text/plain": [
              "<Figure size 432x288 with 1 Axes>"
            ],
            "image/png": "[encoded data removed]"
          },
          "metadata": {
            "needs_background": "light"
          }
        }
      ]
    }
  ]
}
